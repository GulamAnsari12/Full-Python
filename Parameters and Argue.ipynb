{
 "cells": [
  {
   "cell_type": "code",
   "execution_count": 12,
   "metadata": {},
   "outputs": [
    {
     "name": "stdout",
     "output_type": "stream",
     "text": [
      "5\n",
      "-4\n",
      "62\n"
     ]
    }
   ],
   "source": [
    "def add(x,y,b):\n",
    "    print(x+y-b)\n",
    "    \n",
    "add(52,33,80) \n",
    "add(1,4,9)\n",
    "add(20,45,3)\n",
    "    "
   ]
  },
  {
   "cell_type": "code",
   "execution_count": 15,
   "metadata": {},
   "outputs": [
    {
     "name": "stdout",
     "output_type": "stream",
     "text": [
      "The area of the rectangle is: 15\n",
      "The area of the rectangle is: 400\n"
     ]
    }
   ],
   "source": [
    "def rect(length,width):\n",
    "    print(\"The area of the rectangle is:\", length*width)\n",
    "    \n",
    "rect(3,5)\n",
    "rect(20,20)"
   ]
  },
  {
   "cell_type": "code",
   "execution_count": 20,
   "metadata": {},
   "outputs": [
    {
     "name": "stdout",
     "output_type": "stream",
     "text": [
      "Hello,my name is : Lisa\n"
     ]
    }
   ],
   "source": [
    "def hello (*name):\n",
    "    print(\"Hello,my name is :\", name[2])\n",
    "\n",
    "hello(\"peter\",\"John\",\"Lisa\")"
   ]
  },
  {
   "cell_type": "code",
   "execution_count": null,
   "metadata": {},
   "outputs": [],
   "source": []
  }
 ],
 "metadata": {
  "kernelspec": {
   "display_name": "base",
   "language": "python",
   "name": "python3"
  },
  "language_info": {
   "codemirror_mode": {
    "name": "ipython",
    "version": 3
   },
   "file_extension": ".py",
   "mimetype": "text/x-python",
   "name": "python",
   "nbconvert_exporter": "python",
   "pygments_lexer": "ipython3",
   "version": "3.12.3"
  }
 },
 "nbformat": 4,
 "nbformat_minor": 2
}
