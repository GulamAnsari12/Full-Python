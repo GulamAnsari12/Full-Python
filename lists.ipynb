{
 "cells": [
  {
   "cell_type": "markdown",
   "metadata": {},
   "source": [
    "Why List ? - in a variable we can write only one value but in a list we can write multiple value"
   ]
  },
  {
   "cell_type": "code",
   "execution_count": 5,
   "metadata": {},
   "outputs": [
    {
     "name": "stdout",
     "output_type": "stream",
     "text": [
      "['apple', 'mango', 'pineapple', 'papaya', 'banana', 25.52, 55, '546']\n",
      "<class 'list'>\n"
     ]
    }
   ],
   "source": [
    "fruits = [\"apple\",\"mango\",\"pineapple\",\"papaya\",\"banana\",25.52,55,\"546\"]\n",
    "print(fruits)\n",
    "print(type(fruits))"
   ]
  },
  {
   "cell_type": "markdown",
   "metadata": {},
   "source": [
    "Lists Slicing"
   ]
  },
  {
   "cell_type": "code",
   "execution_count": 15,
   "metadata": {},
   "outputs": [
    {
     "name": "stdout",
     "output_type": "stream",
     "text": [
      "Captain America\n",
      "Hulk\n",
      "['Ironman', 'Thor']\n",
      "Thor\n",
      "['Ironman', 'Captain America']\n",
      "['Thor', 'Captain America', 'Hulk']\n",
      "['Thor', 'Captain America']\n",
      "['Hulk', 'Captain America', 'Thor', 'Ironman']\n"
     ]
    }
   ],
   "source": [
    "s = [\"Ironman\",\"Thor\",\"Captain America\",\"Hulk\"]\n",
    "\n",
    "print(s[2])\n",
    "print(s[3])\n",
    "print(s[0:2])\n",
    "print(s[-3])\n",
    "print(s[::2])\n",
    "print(s[1:])\n",
    "print(s[-3:-1])\n",
    "print(s[::-1])"
   ]
  },
  {
   "cell_type": "markdown",
   "metadata": {},
   "source": [
    "List Iteration"
   ]
  },
  {
   "cell_type": "code",
   "execution_count": null,
   "metadata": {},
   "outputs": [],
   "source": []
  }
 ],
 "metadata": {
  "kernelspec": {
   "display_name": "base",
   "language": "python",
   "name": "python3"
  },
  "language_info": {
   "codemirror_mode": {
    "name": "ipython",
    "version": 3
   },
   "file_extension": ".py",
   "mimetype": "text/x-python",
   "name": "python",
   "nbconvert_exporter": "python",
   "pygments_lexer": "ipython3",
   "version": "3.12.3"
  }
 },
 "nbformat": 4,
 "nbformat_minor": 2
}
