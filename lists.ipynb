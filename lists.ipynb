{
 "cells": [
  {
   "cell_type": "markdown",
   "metadata": {},
   "source": [
    "Why List ? - in a variable we can write only one value but in a list we can write multiple value"
   ]
  },
  {
   "cell_type": "code",
   "execution_count": 3,
   "metadata": {},
   "outputs": [
    {
     "name": "stdout",
     "output_type": "stream",
     "text": [
      "['apple', 'mango', 'pineapple', 'papaya', 'banana', 25.52, 55, '546']\n",
      "<class 'list'>\n"
     ]
    }
   ],
   "source": [
    "fruits = [\"apple\",\"mango\",\"pineapple\",\"papaya\",\"banana\",25.52,55,\"546\"]\n",
    "print(fruits)\n",
    "print(type(fruits))"
   ]
  },
  {
   "cell_type": "code",
   "execution_count": 9,
   "metadata": {},
   "outputs": [
    {
     "name": "stdout",
     "output_type": "stream",
     "text": [
      "['iphone', 'nokia', 'realme']\n",
      "<class 'list'>\n",
      "['iphone', 'nokia', 50, 80, 200, 'realme']\n",
      "<class 'list'>\n",
      "('iphone', 'nokia', 50, 80, 200, 'realme')\n",
      "<class 'tuple'>\n",
      "{'nokia', 80, 50, 'realme', 200, 'iphone'}\n",
      "<class 'set'>\n"
     ]
    }
   ],
   "source": [
    "a = [\"iphone\",\"nokia\",\"realme\"]\n",
    "print(a)\n",
    "print(type(a))\n",
    "\n",
    "\n",
    "b = [\"iphone\",\"nokia\",50,80,200,\"realme\"]\n",
    "print(b)\n",
    "print(type(b))\n",
    "\n",
    "c = (\"iphone\",\"nokia\",50,80,200,\"realme\")\n",
    "print(c)\n",
    "print(type(c))\n",
    "\n",
    "d = {\"iphone\",\"nokia\",50,80,200,\"realme\"}\n",
    "print(d)\n",
    "print(type(d))\n"
   ]
  },
  {
   "cell_type": "markdown",
   "metadata": {},
   "source": [
    "Lists Slicing"
   ]
  },
  {
   "cell_type": "code",
   "execution_count": 15,
   "metadata": {},
   "outputs": [
    {
     "name": "stdout",
     "output_type": "stream",
     "text": [
      "Captain America\n",
      "Hulk\n",
      "['Ironman', 'Thor']\n",
      "Thor\n",
      "['Ironman', 'Captain America']\n",
      "['Thor', 'Captain America', 'Hulk']\n",
      "['Thor', 'Captain America']\n",
      "['Hulk', 'Captain America', 'Thor', 'Ironman']\n"
     ]
    }
   ],
   "source": [
    "s = [\"Ironman\",\"Thor\",\"Captain America\",\"Hulk\"]\n",
    "\n",
    "print(s[2])\n",
    "print(s[3])\n",
    "print(s[0:2])\n",
    "print(s[-3])\n",
    "print(s[::2])\n",
    "print(s[1:])\n",
    "print(s[-3:-1])\n",
    "print(s[::-1])"
   ]
  },
  {
   "cell_type": "markdown",
   "metadata": {},
   "source": [
    "List Iteration"
   ]
  },
  {
   "cell_type": "code",
   "execution_count": 1,
   "metadata": {},
   "outputs": [
    {
     "name": "stdout",
     "output_type": "stream",
     "text": [
      "Hulk\n",
      "Thor\n",
      "Ironman\n",
      "Captain America\n"
     ]
    }
   ],
   "source": [
    "#iteration using for loop\n",
    "a = [\"Hulk\",\"Thor\",\"Ironman\",\"Captain America\"]\n",
    "for i in a:\n",
    "    print(i)"
   ]
  },
  {
   "cell_type": "code",
   "execution_count": 4,
   "metadata": {},
   "outputs": [
    {
     "name": "stdout",
     "output_type": "stream",
     "text": [
      "Hulk\n",
      "Thor\n",
      "Ironman\n",
      "Captain America\n"
     ]
    }
   ],
   "source": [
    "#Iteration using for loop with range and length function\n",
    "for i in range(len(a)):\n",
    "    print(a[i])"
   ]
  },
  {
   "cell_type": "code",
   "execution_count": 5,
   "metadata": {},
   "outputs": [
    {
     "name": "stdout",
     "output_type": "stream",
     "text": [
      "Hulk\n",
      "Thor\n",
      "Ironman\n",
      "Captain America\n"
     ]
    }
   ],
   "source": [
    "#iteration using while loop\n",
    "i = 0\n",
    "while i <(len(a)):\n",
    "    print(a[i])\n",
    "    i +=1"
   ]
  },
  {
   "cell_type": "markdown",
   "metadata": {},
   "source": [
    "List Function🤗😒"
   ]
  },
  {
   "cell_type": "code",
   "execution_count": 2,
   "metadata": {},
   "outputs": [
    {
     "name": "stdout",
     "output_type": "stream",
     "text": [
      "['Thor', 'Hulk', 'Ironman', 'Captain America', 'Hulk']\n"
     ]
    }
   ],
   "source": [
    "a = [\"Thor\", \"Hulk\",\"Ironman\",\"Captain America\",\"Hulk\"]\n",
    "print(a)"
   ]
  },
  {
   "cell_type": "code",
   "execution_count": 8,
   "metadata": {},
   "outputs": [
    {
     "name": "stdout",
     "output_type": "stream",
     "text": [
      "4\n"
     ]
    }
   ],
   "source": [
    "#to find the length of a list\n",
    "print(len(a))"
   ]
  },
  {
   "cell_type": "code",
   "execution_count": 15,
   "metadata": {},
   "outputs": [
    {
     "name": "stdout",
     "output_type": "stream",
     "text": [
      "2\n"
     ]
    }
   ],
   "source": [
    "#to count an occurance of a particular element\n",
    "print(a.count(\"Hulk\"))"
   ]
  },
  {
   "cell_type": "code",
   "execution_count": 16,
   "metadata": {},
   "outputs": [
    {
     "name": "stdout",
     "output_type": "stream",
     "text": [
      "['Thor', 'Hulk', 'Ironman', 'Captain America', 'Hulk', 'Spider Man ']\n"
     ]
    }
   ],
   "source": [
    "#to add to the list\n",
    "a.append(\"Spider Man \")\n",
    "print(a)"
   ]
  },
  {
   "cell_type": "code",
   "execution_count": 28,
   "metadata": {},
   "outputs": [
    {
     "name": "stdout",
     "output_type": "stream",
     "text": [
      "['Hulk', 'vision', 'vision', 'vision', 'vision', 'vision', 'vision', 'vision', 'vision', 'Ironman', 'Captain America', 'Hulk', 'Spider Man ']\n"
     ]
    }
   ],
   "source": [
    "#to add to a specific location\n",
    "a.insert(1,\"vision\")\n",
    "print(a)"
   ]
  },
  {
   "cell_type": "code",
   "execution_count": 27,
   "metadata": {},
   "outputs": [
    {
     "name": "stdout",
     "output_type": "stream",
     "text": [
      "['Thor', 'Hulk', 'Ironman', 'Captain America', 'Hulk', 'Spider Man ', 'vision']\n",
      "['Thor', 'Hulk', 'Ironman', 'Captain America', 'Hulk', 'Spider Man ']\n",
      "['Hulk', 'Ironman', 'Captain America', 'Hulk', 'Spider Man ']\n"
     ]
    }
   ],
   "source": [
    "#to remove from a list\n",
    "a.remove(\"vision\")\n",
    "print(a)\n",
    "\n",
    "a.remove(\"vision\")\n",
    "print(a)\n",
    "\n",
    "a.remove(\"Thor\")\n",
    "print(a)"
   ]
  },
  {
   "cell_type": "code",
   "execution_count": 3,
   "metadata": {},
   "outputs": [
    {
     "name": "stdout",
     "output_type": "stream",
     "text": [
      "Ironman\n",
      "['Thor', 'Hulk', 'Captain America', 'Hulk']\n"
     ]
    }
   ],
   "source": [
    "#to remove from a certain location\n",
    "print(a.pop(2))\n",
    "print(a)"
   ]
  },
  {
   "cell_type": "code",
   "execution_count": 8,
   "metadata": {},
   "outputs": [
    {
     "name": "stdout",
     "output_type": "stream",
     "text": [
      "[]\n",
      "['Thor', 'Hulk', 'Ironman', 'Captain America']\n"
     ]
    }
   ],
   "source": [
    "a = [\"Thor\",\"Hulk\",\"Ironman\",\"Captain America\"]\n",
    "b = []\n",
    "print(b)\n",
    "b = a.copy()\n",
    "print(b)"
   ]
  },
  {
   "cell_type": "code",
   "execution_count": 9,
   "metadata": {},
   "outputs": [
    {
     "name": "stdout",
     "output_type": "stream",
     "text": [
      "2\n",
      "3\n"
     ]
    }
   ],
   "source": [
    "#to access an element\n",
    "print(a.index(\"Ironman\"))\n",
    "print(a.index(\"Captain America\"))"
   ]
  },
  {
   "cell_type": "code",
   "execution_count": 10,
   "metadata": {},
   "outputs": [
    {
     "name": "stdout",
     "output_type": "stream",
     "text": [
      "['Thor', 'Hulk', 'Ironman', 'Captain America', 'Vision', 'Spider Man']\n"
     ]
    }
   ],
   "source": [
    "#to extend the list\n",
    "s = [\"Vision\",\"Spider Man\"]\n",
    "a.extend(s)\n",
    "print(a)"
   ]
  },
  {
   "cell_type": "code",
   "execution_count": 11,
   "metadata": {},
   "outputs": [
    {
     "name": "stdout",
     "output_type": "stream",
     "text": [
      "['Spider Man', 'Vision', 'Captain America', 'Ironman', 'Hulk', 'Thor']\n"
     ]
    }
   ],
   "source": [
    "#to reverse the list\n",
    "a.reverse()\n",
    "print(a)"
   ]
  },
  {
   "cell_type": "code",
   "execution_count": 15,
   "metadata": {},
   "outputs": [
    {
     "name": "stdout",
     "output_type": "stream",
     "text": [
      "['Captain America', 'Hulk', 'Ironman', 'Spider Man', 'Thor', 'Vision']\n",
      "[0, 1, 2, 3, 4, 5, 6, 7, 8, 9]\n",
      "<class 'list'>\n"
     ]
    }
   ],
   "source": [
    "#to sort the list\n",
    "a.sort()\n",
    "print(a)\n",
    "\n",
    "n = [1,5,6,9,2,3,7,8,4,0]\n",
    "n.sort()\n",
    "print(n)\n",
    "print(type(n))\n"
   ]
  },
  {
   "cell_type": "code",
   "execution_count": 16,
   "metadata": {},
   "outputs": [
    {
     "name": "stdout",
     "output_type": "stream",
     "text": [
      "[]\n"
     ]
    }
   ],
   "source": [
    "#to clear all the data from the list\n",
    "n.clear()\n",
    "print(n)\n"
   ]
  },
  {
   "cell_type": "markdown",
   "metadata": {},
   "source": [
    "List Comprehension😍🤗"
   ]
  },
  {
   "cell_type": "code",
   "execution_count": 24,
   "metadata": {},
   "outputs": [
    {
     "name": "stdout",
     "output_type": "stream",
     "text": [
      "[30, 40, 50, 60] \n",
      " [30, 40, 50, 60]\n"
     ]
    }
   ],
   "source": [
    "l1 = [30,40,50,60]\n",
    "\n",
    "l2 = []\n",
    "for i in l1:\n",
    "    l2.append(i)\n",
    "print(l1,\"\\n\",l2)\n"
   ]
  },
  {
   "cell_type": "markdown",
   "metadata": {},
   "source": [
    "Problem Solving😴🫤🥱"
   ]
  },
  {
   "cell_type": "code",
   "execution_count": 34,
   "metadata": {},
   "outputs": [
    {
     "name": "stdout",
     "output_type": "stream",
     "text": [
      "['joe', 'Rachel', 'Monica', 'Ross']\n"
     ]
    }
   ],
   "source": [
    "a = [\"Ross\",\"Rachel\",\"Monica\",\"joe\"]\n",
    "#write a program to swap first and fouth element\n",
    "a[0],a[3]=a[3],a[0]\n",
    "print(a)"
   ]
  },
  {
   "cell_type": "code",
   "execution_count": 35,
   "metadata": {},
   "outputs": [
    {
     "name": "stdout",
     "output_type": "stream",
     "text": [
      "['joe', 'Gulam', 'Rachel', 'Monica', 'Ross']\n"
     ]
    }
   ],
   "source": [
    "#write a program to add a new value at second position\n",
    "a.insert(1,\"Gulam\")\n",
    "print(a)"
   ]
  },
  {
   "cell_type": "code",
   "execution_count": 38,
   "metadata": {},
   "outputs": [
    {
     "name": "stdout",
     "output_type": "stream",
     "text": [
      "Rachel\n",
      "['joe', 'Gulam', 'Monica', 'Ross']\n"
     ]
    }
   ],
   "source": [
    "#write a program to delete a value from 3rd position\n",
    "print(a.pop(2))\n",
    "print(a)\n"
   ]
  },
  {
   "cell_type": "code",
   "execution_count": 40,
   "metadata": {},
   "outputs": [
    {
     "name": "stdout",
     "output_type": "stream",
     "text": [
      "10920\n"
     ]
    }
   ],
   "source": [
    "b = [13,7,12,10]\n",
    "#write a program to multiply all the numbers in the list\n",
    "mul = 1\n",
    "for i in b:\n",
    "    mul *= i\n",
    "print(mul)"
   ]
  },
  {
   "cell_type": "code",
   "execution_count": 42,
   "metadata": {},
   "outputs": [
    {
     "name": "stdout",
     "output_type": "stream",
     "text": [
      "[7, 10, 12, 13]\n",
      "The largest value of the list 13\n"
     ]
    }
   ],
   "source": [
    "#write a program to get the largest number from the list\n",
    "b = [13,7,12,10]\n",
    "b.sort()\n",
    "print(b)\n",
    "print(\"The largest value of the list\",b[-1])"
   ]
  },
  {
   "cell_type": "code",
   "execution_count": 50,
   "metadata": {},
   "outputs": [
    {
     "name": "stdout",
     "output_type": "stream",
     "text": [
      "[7, 10, 12, 13]\n",
      "The sllamest value of the list 7\n"
     ]
    }
   ],
   "source": [
    "#write a program to get the smallest number from the list\n",
    "b.sort()\n",
    "print(b)\n",
    "\n",
    "print(\"The sllamest value of the list\",b[0])"
   ]
  },
  {
   "cell_type": "code",
   "execution_count": null,
   "metadata": {},
   "outputs": [],
   "source": []
  }
 ],
 "metadata": {
  "kernelspec": {
   "display_name": "base",
   "language": "python",
   "name": "python3"
  },
  "language_info": {
   "codemirror_mode": {
    "name": "ipython",
    "version": 3
   },
   "file_extension": ".py",
   "mimetype": "text/x-python",
   "name": "python",
   "nbconvert_exporter": "python",
   "pygments_lexer": "ipython3",
   "version": "3.12.3"
  }
 },
 "nbformat": 4,
 "nbformat_minor": 2
}
