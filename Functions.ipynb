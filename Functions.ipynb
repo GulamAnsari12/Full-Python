{
 "cells": [
  {
   "cell_type": "code",
   "execution_count": 1,
   "metadata": {},
   "outputs": [
    {
     "name": "stdout",
     "output_type": "stream",
     "text": [
      "Hello World\n"
     ]
    }
   ],
   "source": [
    "def hello():\n",
    "    print(\"Hello World\")\n",
    "hello()"
   ]
  },
  {
   "cell_type": "code",
   "execution_count": 1,
   "metadata": {},
   "outputs": [
    {
     "name": "stdout",
     "output_type": "stream",
     "text": [
      "103\n"
     ]
    }
   ],
   "source": [
    "def add():\n",
    "    a = 34\n",
    "    b = 69\n",
    "    print(a+b)\n",
    "    \n",
    "add()"
   ]
  },
  {
   "cell_type": "markdown",
   "metadata": {},
   "source": [
    "Return Statement and Recusrion in Functions 😍😒😴"
   ]
  },
  {
   "cell_type": "code",
   "execution_count": 7,
   "metadata": {},
   "outputs": [
    {
     "name": "stdout",
     "output_type": "stream",
     "text": [
      "Hello World\n"
     ]
    }
   ],
   "source": [
    "def hello():\n",
    "    return(\"Hello World\")\n",
    "print(hello())"
   ]
  },
  {
   "cell_type": "code",
   "execution_count": 12,
   "metadata": {},
   "outputs": [
    {
     "name": "stdout",
     "output_type": "stream",
     "text": [
      "('The addition of two numbers is:', 11)\n",
      "('The addition of two numbers is:', 148)\n"
     ]
    }
   ],
   "source": [
    "def add (a,b):\n",
    "    return(\"The addition of two numbers is:\",a+b)\n",
    "print(add(5,6))\n",
    "print(add(55,93))"
   ]
  },
  {
   "cell_type": "markdown",
   "metadata": {},
   "source": [
    "Recursion in Python😍😴😴"
   ]
  },
  {
   "cell_type": "code",
   "execution_count": 21,
   "metadata": {},
   "outputs": [
    {
     "name": "stdout",
     "output_type": "stream",
     "text": [
      "1\n",
      "24\n",
      "6\n"
     ]
    }
   ],
   "source": [
    "def fact(n):\n",
    "    if n == 1:\n",
    "        return 1\n",
    "    else:\n",
    "        return n*fact(n-1)\n",
    "print(fact(1))\n",
    "print(fact(4))\n",
    "print(fact(3))\n",
    "    "
   ]
  },
  {
   "cell_type": "markdown",
   "metadata": {},
   "source": [
    "Problem Solving😴😒😒"
   ]
  },
  {
   "cell_type": "code",
   "execution_count": 2,
   "metadata": {},
   "outputs": [
    {
     "name": "stdout",
     "output_type": "stream",
     "text": [
      "91 Is the greatest number\n"
     ]
    }
   ],
   "source": [
    "#Write a function to find maximum of three numbers in python\n",
    "def maximum_num (val1,val2,val3):\n",
    "    if val1 > val2 and val1>val3:\n",
    "        print(val1,\"Is the greatest number\")\n",
    "    elif val2 > val1 and val2> val3:\n",
    "        print(val2, \"Is the greatest number\")\n",
    "    else :\n",
    "        print(val3,\"Is the greatest number\")\n",
    "maximum_num(12,5,91)"
   ]
  },
  {
   "cell_type": "code",
   "execution_count": 2,
   "metadata": {},
   "outputs": [
    {
     "name": "stdout",
     "output_type": "stream",
     "text": [
      "[1, 4, 9, 16, 25, 36, 49, 64, 81, 100, 121, 144, 169, 196, 225, 256, 289, 324, 361, 400, 441, 484, 529, 576, 625, 676, 729, 784, 841, 900]\n"
     ]
    }
   ],
   "source": [
    "#Write a python function to create and print a list where the values are square of numbers between 1 and 30\n",
    "def create_list():\n",
    "    l = []\n",
    "    for i in range(1,31):\n",
    "        l.append(i**2)\n",
    "        \n",
    "    return l\n",
    "print(create_list())\n"
   ]
  },
  {
   "cell_type": "code",
   "execution_count": 1,
   "metadata": {},
   "outputs": [],
   "source": [
    "#Write a python function that takes a number as a parameter and check if the number is prime or not\n",
    "def check_prime(num):\n",
    "    if num == 1:\n",
    "        print(\"It is not a prime number\")\n",
    "    if num == 2:\n",
    "        print(\"It is a prime number\")\n",
    "    if num>2:\n",
    "     for i in range (2,num):\n",
    "        if num % i == 0:\n",
    "            print(\"It is not a prime number\")\n",
    "            break\n",
    "        \n",
    "    else:\n",
    "        print(\"It is a prime number\")\n",
    "        \n",
    "check_prime(17)"
   ]
  },
  {
   "cell_type": "code",
   "execution_count": 6,
   "metadata": {},
   "outputs": [
    {
     "name": "stdout",
     "output_type": "stream",
     "text": [
      "The sum off all the item in the list is : 501\n"
     ]
    }
   ],
   "source": [
    "#Write a python function to sum all the numbers in a list\n",
    "def add(numbers):\n",
    "    total = 0\n",
    "    for i in numbers:\n",
    "        total = total +i\n",
    "    return(total)\n",
    "print(\"The sum off all the item in the list is :\",add([50,100,200,150,1]))\n"
   ]
  },
  {
   "cell_type": "code",
   "execution_count": 13,
   "metadata": {},
   "outputs": [
    {
     "name": "stdout",
     "output_type": "stream",
     "text": [
      "13\n"
     ]
    }
   ],
   "source": [
    "#Write a python program to solve the Fibonacci Sequence using Recursion\n",
    "def fs(num):\n",
    "    if num == 1:\n",
    "        return (0)\n",
    "    elif num == 2:\n",
    "        return (1)\n",
    "    else :\n",
    "        return(fs(num-1)+fs(num-2))\n",
    "print(fs(8))"
   ]
  },
  {
   "cell_type": "code",
   "execution_count": null,
   "metadata": {},
   "outputs": [],
   "source": []
  }
 ],
 "metadata": {
  "kernelspec": {
   "display_name": "base",
   "language": "python",
   "name": "python3"
  },
  "language_info": {
   "codemirror_mode": {
    "name": "ipython",
    "version": 3
   },
   "file_extension": ".py",
   "mimetype": "text/x-python",
   "name": "python",
   "nbconvert_exporter": "python",
   "pygments_lexer": "ipython3",
   "version": "3.12.3"
  }
 },
 "nbformat": 4,
 "nbformat_minor": 2
}
