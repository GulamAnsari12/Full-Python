{
 "cells": [
  {
   "cell_type": "markdown",
   "metadata": {},
   "source": [
    "If Statement in Python"
   ]
  },
  {
   "cell_type": "code",
   "execution_count": 4,
   "metadata": {},
   "outputs": [
    {
     "name": "stdout",
     "output_type": "stream",
     "text": [
      "B is greater than A\n"
     ]
    }
   ],
   "source": [
    "a = 45\n",
    "b = 599\n",
    "if b > a :\n",
    "    print(\"B is greater than A\")"
   ]
  },
  {
   "cell_type": "code",
   "execution_count": 10,
   "metadata": {},
   "outputs": [
    {
     "name": "stdout",
     "output_type": "stream",
     "text": [
      "You are eligibal to vote\n"
     ]
    }
   ],
   "source": [
    "age = int(input(\"Enter your No.\"))\n",
    "\n",
    "if  age> 18:\n",
    "    print(\"You are eligibal to vote\")    "
   ]
  },
  {
   "cell_type": "markdown",
   "metadata": {},
   "source": [
    "If-else Statement"
   ]
  },
  {
   "cell_type": "code",
   "execution_count": 13,
   "metadata": {},
   "outputs": [
    {
     "name": "stdout",
     "output_type": "stream",
     "text": [
      "You are oldest\n"
     ]
    }
   ],
   "source": [
    "man = 45\n",
    "\n",
    "if man <= 22:\n",
    "    print(\"You are youngester\")\n",
    "else:\n",
    "    print(\"You are oldest\")\n"
   ]
  },
  {
   "cell_type": "code",
   "execution_count": 10,
   "metadata": {},
   "outputs": [
    {
     "name": "stdout",
     "output_type": "stream",
     "text": [
      "It's Cool day\n"
     ]
    }
   ],
   "source": [
    "temp = int(input(\"Enter temprature Here:\"))\n",
    "\n",
    "if temp <= 20:\n",
    "    print(\"It's Cool day\")\n",
    "else:\n",
    "    print(\"It's Hotest\")"
   ]
  },
  {
   "cell_type": "markdown",
   "metadata": {},
   "source": [
    "If-elif-else Statement"
   ]
  },
  {
   "cell_type": "code",
   "execution_count": 21,
   "metadata": {},
   "outputs": [
    {
     "name": "stdout",
     "output_type": "stream",
     "text": [
      "Grade : B\n"
     ]
    }
   ],
   "source": [
    "marks = float(input(\"Enter your marks :\"))\n",
    "\n",
    "if marks >=90:\n",
    "    print(\"Grade : A+\")\n",
    "elif marks >=80:\n",
    "    print(\"Grade : A\")\n",
    "elif marks >=70:\n",
    "    print(\"Grade : B\")\n",
    "else:\n",
    "    print(\"Grade : C\")"
   ]
  },
  {
   "cell_type": "markdown",
   "metadata": {},
   "source": [
    "Nested if else Staement"
   ]
  },
  {
   "cell_type": "code",
   "execution_count": null,
   "metadata": {},
   "outputs": [],
   "source": [
    "Q :- "
   ]
  },
  {
   "cell_type": "code",
   "execution_count": null,
   "metadata": {},
   "outputs": [],
   "source": []
  },
  {
   "cell_type": "code",
   "execution_count": 1,
   "metadata": {},
   "outputs": [
    {
     "name": "stdout",
     "output_type": "stream",
     "text": [
      "Nothing\n"
     ]
    }
   ],
   "source": [
    "mark = int(input(\"Enter a number\"))\n",
    "\n",
    "if mark >= 90 and mark <= 80:\n",
    "    print(\"You will get a Bike\")\n",
    "elif mark >=80 and mark <70:\n",
    "    print(\"You will get a mobile\")\n",
    "elif mark >= 70 and mark <= 60:\n",
    "    print(\"You will get a smart watch\")\n",
    "elif mark >= 60 and mark <=50:\n",
    "    print(\"You will get a Cloth\")\n",
    "else:\n",
    "    print(\"Nothing\")"
   ]
  },
  {
   "cell_type": "code",
   "execution_count": null,
   "metadata": {},
   "outputs": [],
   "source": []
  }
 ],
 "metadata": {
  "kernelspec": {
   "display_name": "base",
   "language": "python",
   "name": "python3"
  },
  "language_info": {
   "codemirror_mode": {
    "name": "ipython",
    "version": 3
   },
   "file_extension": ".py",
   "mimetype": "text/x-python",
   "name": "python",
   "nbconvert_exporter": "python",
   "pygments_lexer": "ipython3",
   "version": "3.12.3"
  }
 },
 "nbformat": 4,
 "nbformat_minor": 2
}
