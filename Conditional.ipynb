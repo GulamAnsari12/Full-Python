{
 "cells": [
  {
   "cell_type": "code",
   "execution_count": 2,
   "metadata": {},
   "outputs": [
    {
     "name": "stdout",
     "output_type": "stream",
     "text": [
      "Nothing\n"
     ]
    }
   ],
   "source": [
    "mark = int(input(\"Enter a number\"))\n",
    "\n",
    "if mark >= 90 and mark <= 80:\n",
    "    print(\"You will get a Bike\")\n",
    "elif mark >=80 and mark <70:\n",
    "    print(\"You will get a mobile\")\n",
    "elif mark >= 70 and mark <= 60:\n",
    "    print(\"You will get a smart watch\")\n",
    "elif mark >= 60 and mark <=50:\n",
    "    print(\"You will get a Cloth\")\n",
    "else:\n",
    "    print(\"Nothing\")"
   ]
  },
  {
   "cell_type": "code",
   "execution_count": null,
   "metadata": {},
   "outputs": [],
   "source": []
  }
 ],
 "metadata": {
  "kernelspec": {
   "display_name": "base",
   "language": "python",
   "name": "python3"
  },
  "language_info": {
   "codemirror_mode": {
    "name": "ipython",
    "version": 3
   },
   "file_extension": ".py",
   "mimetype": "text/x-python",
   "name": "python",
   "nbconvert_exporter": "python",
   "pygments_lexer": "ipython3",
   "version": "3.12.3"
  }
 },
 "nbformat": 4,
 "nbformat_minor": 2
}
