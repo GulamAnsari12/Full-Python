{
 "cells": [
  {
   "cell_type": "code",
   "execution_count": 13,
   "metadata": {},
   "outputs": [
    {
     "name": "stdout",
     "output_type": "stream",
     "text": [
      "{'Thor', 'Hulk', 'Ironman', 'Captain America'}\n",
      "<class 'set'>\n",
      "Thor\n",
      "Hulk\n",
      "Ironman\n",
      "Captain America\n"
     ]
    }
   ],
   "source": [
    "a = {\"Ironman\",\"Hulk\",\"Thor\",\"Captain America\"}\n",
    "print(a)\n",
    "print(type(a))\n",
    "\n",
    "for i in a:\n",
    "    print(i)"
   ]
  },
  {
   "cell_type": "markdown",
   "metadata": {},
   "source": [
    "Set Functions😴🤗😒"
   ]
  },
  {
   "cell_type": "code",
   "execution_count": 37,
   "metadata": {},
   "outputs": [
    {
     "name": "stdout",
     "output_type": "stream",
     "text": [
      "{'Thor', 'Ironman', 'Spider Man', 'Captain America', 'Hulk'}\n"
     ]
    }
   ],
   "source": [
    "#add\n",
    "a = {\"Ironman\",\"Hulk\",\"Captain America\",\"Thor\"}\n",
    "a.add(\"Spider Man\")\n",
    "print(a)"
   ]
  },
  {
   "cell_type": "code",
   "execution_count": 32,
   "metadata": {},
   "outputs": [
    {
     "name": "stdout",
     "output_type": "stream",
     "text": [
      "{'Ironman', 'Spider Man', 'Captain America', 'Hulk'}\n"
     ]
    }
   ],
   "source": [
    "#pop \n",
    "a.pop()\n",
    "print(a)"
   ]
  },
  {
   "cell_type": "code",
   "execution_count": 34,
   "metadata": {},
   "outputs": [
    {
     "name": "stdout",
     "output_type": "stream",
     "text": [
      "{'Ironman', 'Spider Man', 'Captain America'}\n"
     ]
    }
   ],
   "source": [
    "#remove\n",
    "a.remove(\"Hulk\")\n",
    "print(a)"
   ]
  },
  {
   "cell_type": "code",
   "execution_count": 35,
   "metadata": {},
   "outputs": [
    {
     "name": "stdout",
     "output_type": "stream",
     "text": [
      "{'Spider Man', 'Captain America'}\n"
     ]
    }
   ],
   "source": [
    "#discard\n",
    "a.discard(\"Ironman\")\n",
    "print(a)"
   ]
  },
  {
   "cell_type": "code",
   "execution_count": 38,
   "metadata": {},
   "outputs": [
    {
     "name": "stdout",
     "output_type": "stream",
     "text": [
      "{'Spider Man', 'Thor', 'Ironman', 'Captain America', 'Hulk'}\n"
     ]
    }
   ],
   "source": [
    "#copy\n",
    "z = a.copy()\n",
    "print(z)"
   ]
  },
  {
   "cell_type": "code",
   "execution_count": 45,
   "metadata": {},
   "outputs": [],
   "source": [
    "a = {\"Ironman\",\"Hulk\",\"Thor\",\"Captain America\"}\n",
    "b = {\"Superman\",\"Batman\",\"Wonder-Woman\"}\n",
    "c = {\"Hulk\",\"Thor\"}"
   ]
  },
  {
   "cell_type": "code",
   "execution_count": 41,
   "metadata": {},
   "outputs": [
    {
     "name": "stdout",
     "output_type": "stream",
     "text": [
      "True\n",
      "False\n"
     ]
    }
   ],
   "source": [
    "#isdisjoint\n",
    "print(a.isdisjoint(b))\n",
    "print(a.isdisjoint(c))"
   ]
  },
  {
   "cell_type": "code",
   "execution_count": 48,
   "metadata": {},
   "outputs": [
    {
     "name": "stdout",
     "output_type": "stream",
     "text": [
      "False\n",
      "True\n"
     ]
    }
   ],
   "source": [
    "#issubset\n",
    "print(a.issubset(b))\n",
    "print(c.issubset(a))"
   ]
  },
  {
   "cell_type": "code",
   "execution_count": 52,
   "metadata": {},
   "outputs": [
    {
     "name": "stdout",
     "output_type": "stream",
     "text": [
      "False\n",
      "True\n"
     ]
    }
   ],
   "source": [
    "#issuperset\n",
    "print(b.issuperset(c))\n",
    "print(a.issuperset(c))"
   ]
  },
  {
   "cell_type": "code",
   "execution_count": 53,
   "metadata": {},
   "outputs": [
    {
     "name": "stdout",
     "output_type": "stream",
     "text": [
      "{'Thor', 'Ironman', 'Captain America', 'Hulk'}\n"
     ]
    }
   ],
   "source": [
    "#update\n",
    "a.update(c)\n",
    "print(a)"
   ]
  },
  {
   "cell_type": "code",
   "execution_count": 55,
   "metadata": {},
   "outputs": [
    {
     "name": "stdout",
     "output_type": "stream",
     "text": [
      "None\n",
      "set()\n"
     ]
    }
   ],
   "source": [
    "#clear\n",
    "print(a.clear())\n",
    "print(a)"
   ]
  },
  {
   "cell_type": "code",
   "execution_count": 82,
   "metadata": {},
   "outputs": [],
   "source": [
    "a = {\"Ironman\",\"Hulk\",\"Thor\",\"Captain America\"}\n",
    "b = {\"Superman\",\"Batman\",\"Wonder-Woman\"}\n",
    "c = {\"Hulk\",\"Thor\",\"Spider Man\"}"
   ]
  },
  {
   "cell_type": "code",
   "execution_count": 58,
   "metadata": {},
   "outputs": [
    {
     "name": "stdout",
     "output_type": "stream",
     "text": [
      "{'Spider Man', 'Thor', 'Ironman', 'Captain America', 'Hulk'}\n",
      "{'Superman', 'Thor', 'Ironman', 'Captain America', 'Wonder-Woman', 'Hulk', 'Batman'}\n"
     ]
    }
   ],
   "source": [
    "#union\n",
    "print(a.union(c))\n",
    "print(a.union(b))"
   ]
  },
  {
   "cell_type": "code",
   "execution_count": 59,
   "metadata": {},
   "outputs": [
    {
     "name": "stdout",
     "output_type": "stream",
     "text": [
      "{'Ironman', 'Captain America'}\n"
     ]
    }
   ],
   "source": [
    "#difference\n",
    "print(a.difference(c))"
   ]
  },
  {
   "cell_type": "code",
   "execution_count": 61,
   "metadata": {},
   "outputs": [
    {
     "name": "stdout",
     "output_type": "stream",
     "text": [
      "{'Ironman', 'Captain America'}\n"
     ]
    }
   ],
   "source": [
    "#difference update\n",
    "a.difference_update(c)\n",
    "print(a)"
   ]
  },
  {
   "cell_type": "code",
   "execution_count": 65,
   "metadata": {},
   "outputs": [
    {
     "name": "stdout",
     "output_type": "stream",
     "text": [
      "{'Hulk', 'Thor'}\n"
     ]
    }
   ],
   "source": [
    "#intersection(print commo value)\n",
    "x = (a.intersection(c))\n",
    "print(x)"
   ]
  },
  {
   "cell_type": "code",
   "execution_count": 67,
   "metadata": {},
   "outputs": [
    {
     "name": "stdout",
     "output_type": "stream",
     "text": [
      "{'Thor', 'Hulk'}\n"
     ]
    }
   ],
   "source": [
    "#intersection update(print common value)\n",
    "a.intersection_update(c)\n",
    "print(a)"
   ]
  },
  {
   "cell_type": "code",
   "execution_count": 79,
   "metadata": {},
   "outputs": [
    {
     "name": "stdout",
     "output_type": "stream",
     "text": [
      "{'Thor', 'Wonder-Woman', 'Ironman', 'Superman', 'Captain America', 'Hulk', 'Batman'}\n",
      "{'Spider Man', 'Ironman', 'Captain America'}\n"
     ]
    }
   ],
   "source": [
    "#symetric difference(ignore common value)\n",
    "s = a.symmetric_difference(b)\n",
    "print(s)\n",
    "z = a.symmetric_difference(c)\n",
    "print(z)"
   ]
  },
  {
   "cell_type": "code",
   "execution_count": 85,
   "metadata": {},
   "outputs": [
    {
     "name": "stdout",
     "output_type": "stream",
     "text": [
      "{'Ironman', 'Spider Man', 'Captain America'}\n"
     ]
    }
   ],
   "source": [
    "#symetric difference update\n",
    "a.symmetric_difference_update(c)\n",
    "print(a)"
   ]
  },
  {
   "cell_type": "markdown",
   "metadata": {},
   "source": [
    "Problem Solving😴😴😒"
   ]
  },
  {
   "cell_type": "code",
   "execution_count": 88,
   "metadata": {},
   "outputs": [
    {
     "name": "stdout",
     "output_type": "stream",
     "text": [
      "The maximum value in the set is : 99\n",
      "The minimum value in the set is : 1\n"
     ]
    }
   ],
   "source": [
    "#write a program to find max and min in a set\n",
    "a = {12,45,30,99,1,11}\n",
    "maximum = max(a)\n",
    "minimum = min(a)\n",
    "print (\"The maximum value in the set is :\", maximum)\n",
    "print(\"The minimum value in the set is :\", minimum)"
   ]
  },
  {
   "cell_type": "code",
   "execution_count": 96,
   "metadata": {},
   "outputs": [
    {
     "name": "stdout",
     "output_type": "stream",
     "text": [
      "The common elements in the given three lists are :-  {3, 5, 6}\n"
     ]
    }
   ],
   "source": [
    "#write a program to find common elements in three lists using sets\n",
    "a = [1,5,6,8,2,3]\n",
    "b = [4,3,5,6,7]\n",
    "c = [1,9,6,2,3,5]\n",
    "print(\"The common elements in the given three lists are :- \",set(a) & set(b) & set(c))"
   ]
  },
  {
   "cell_type": "code",
   "execution_count": 97,
   "metadata": {},
   "outputs": [
    {
     "name": "stdout",
     "output_type": "stream",
     "text": [
      "{8}\n"
     ]
    }
   ],
   "source": [
    "#write a program to find difference between two sets\n",
    "a = {1,5,6,8,2}\n",
    "b = {1,9,6,2,5}\n",
    "print(a.difference(b))"
   ]
  },
  {
   "cell_type": "code",
   "execution_count": 102,
   "metadata": {},
   "outputs": [
    {
     "name": "stdout",
     "output_type": "stream",
     "text": [
      "{1, 5, 6, 8}\n"
     ]
    }
   ],
   "source": [
    "#write a python program to remove an item from a set if it is present in the set\n",
    "a = {1,5,6,8,2}\n",
    "a.discard(2)\n",
    "print(a)"
   ]
  },
  {
   "cell_type": "code",
   "execution_count": 104,
   "metadata": {},
   "outputs": [
    {
     "name": "stdout",
     "output_type": "stream",
     "text": [
      "False\n",
      "True\n"
     ]
    }
   ],
   "source": [
    "#write a python program to check if a set is a subset of another set\n",
    "a = {1,2,3,4,5,6}\n",
    "b = {2,3,4}\n",
    "print(a.issubset(b))\n",
    "print(b.issubset(a))"
   ]
  },
  {
   "cell_type": "code",
   "execution_count": null,
   "metadata": {},
   "outputs": [],
   "source": []
  }
 ],
 "metadata": {
  "kernelspec": {
   "display_name": "base",
   "language": "python",
   "name": "python3"
  },
  "language_info": {
   "codemirror_mode": {
    "name": "ipython",
    "version": 3
   },
   "file_extension": ".py",
   "mimetype": "text/x-python",
   "name": "python",
   "nbconvert_exporter": "python",
   "pygments_lexer": "ipython3",
   "version": "3.12.3"
  }
 },
 "nbformat": 4,
 "nbformat_minor": 2
}
