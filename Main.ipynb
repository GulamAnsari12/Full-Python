{
 "cells": [
  {
   "cell_type": "code",
   "execution_count": 1,
   "metadata": {},
   "outputs": [
    {
     "name": "stdout",
     "output_type": "stream",
     "text": [
      "hi\n",
      "thid is my fisrt programe\n",
      "i hope you all like it i love this tutorial\n"
     ]
    }
   ],
   "source": [
    "print(\"hi\")\n",
    "print(\"thid is my fisrt programe\")\n",
    "print (\"i hope you all like it \"\n",
    "       \"i love this tutorial\")"
   ]
  },
  {
   "cell_type": "code",
   "execution_count": 2,
   "metadata": {},
   "outputs": [
    {
     "name": "stdout",
     "output_type": "stream",
     "text": [
      "hello world \n",
      "      this is my first programe \n",
      "      i love this tutorial\n"
     ]
    }
   ],
   "source": [
    "#for wright multople line(Use triple quotation mark Or \\n)\n",
    "print(\"\"\"hello world \n",
    "      this is my first programe \n",
    "      i love this tutorial\"\"\")"
   ]
  },
  {
   "cell_type": "code",
   "execution_count": 3,
   "metadata": {},
   "outputs": [
    {
     "name": "stdout",
     "output_type": "stream",
     "text": [
      "hello world \n",
      "python is a interprater language \n",
      "python is a high level language.\n"
     ]
    }
   ],
   "source": [
    "print(\"hello world \\npython is a interprater language \\npython is a high level language.\")"
   ]
  },
  {
   "cell_type": "code",
   "execution_count": 4,
   "metadata": {},
   "outputs": [
    {
     "name": "stdout",
     "output_type": "stream",
     "text": [
      "it's going to rain today\n"
     ]
    }
   ],
   "source": [
    "#When we use appostrafe\n",
    "print ('it\\'s going to rain today')"
   ]
  },
  {
   "cell_type": "code",
   "execution_count": 5,
   "metadata": {},
   "outputs": [],
   "source": [
    "\n",
    "#Comments in python(we use # for understandind code)\n",
    "#hello\n",
    "#\"\"\"hi\n",
    "# im here \n",
    "# for your help\"\"\""
   ]
  },
  {
   "cell_type": "code",
   "execution_count": 6,
   "metadata": {},
   "outputs": [
    {
     "name": "stdout",
     "output_type": "stream",
     "text": [
      "hello\n",
      "<class 'str'>\n"
     ]
    }
   ],
   "source": [
    "#Create variable\n",
    "a= \"hello\"\n",
    "print(a)\n",
    "print(type(a))"
   ]
  },
  {
   "cell_type": "code",
   "execution_count": 9,
   "metadata": {},
   "outputs": [
    {
     "name": "stdout",
     "output_type": "stream",
     "text": [
      "my name is gulam\n",
      "(1, 33, 4, 67, 8)\n",
      "<class 'tuple'>\n",
      "(1, 2, 3, 4, 5)\n",
      "<class 'tuple'>\n",
      "<class 'int'>\n"
     ]
    }
   ],
   "source": [
    "Name_Gulam = \"my name is gulam\"\n",
    "print(Name_Gulam)\n",
    "\n",
    "Num123 = (1,33,4,67,8)\n",
    "print(Num123)\n",
    "print(type(Num123))\n",
    "\n",
    "num = 1,2,3,4,5\n",
    "print(num)\n",
    "print(type(num))\n",
    "\n",
    "num1 = 10120575\n",
    "print(type (num1))"
   ]
  },
  {
   "cell_type": "code",
   "execution_count": null,
   "metadata": {},
   "outputs": [
    {
     "name": "stdout",
     "output_type": "stream",
     "text": [
      "Gulam\n",
      "20\n",
      "5.0\n",
      "1336\n"
     ]
    }
   ],
   "source": [
    "#take input from user\n",
    "name = input(\"Enter your name :- \")\n",
    "print(name)\n",
    "\n",
    "age = int(input(\"Enter age:- \"))\n",
    "print(age)\n",
    "\n",
    "hieght = float(input(\"Enter your hight\"))\n",
    "print(hieght)\n",
    "\n",
    "#use for value count (evalute)\n",
    "exp1 = eval(input(\"enter any equation here : \"))\n",
    "print(exp1)"
   ]
  },
  {
   "cell_type": "code",
   "execution_count": 31,
   "metadata": {},
   "outputs": [
    {
     "name": "stdout",
     "output_type": "stream",
     "text": [
      "<class 'str'>\n",
      "<class 'int'>\n",
      "<class 'str'>\n",
      "<class 'float'>\n",
      "after conversion <class 'float'>\n",
      "127.5\n",
      "<class 'float'>\n"
     ]
    }
   ],
   "source": [
    "#Type of casting (Implicit and explicit)\n",
    "name = \"john\"\n",
    "age = 55\n",
    "print(type(name))\n",
    "print(type(age))\n",
    "\n",
    "a = \"123\"\n",
    "b = 4.5\n",
    "print(type(a))\n",
    "print(type(b))\n",
    "\n",
    "a = float(a)\n",
    "print(\"after conversion\", type(a))\n",
    "\n",
    "c = a+b\n",
    "print(c)\n",
    "print(type(c))"
   ]
  },
  {
   "cell_type": "markdown",
   "metadata": {},
   "source": []
  },
  {
   "cell_type": "code",
   "execution_count": null,
   "metadata": {},
   "outputs": [],
   "source": []
  }
 ],
 "metadata": {
  "kernelspec": {
   "display_name": "base",
   "language": "python",
   "name": "python3"
  },
  "language_info": {
   "codemirror_mode": {
    "name": "ipython",
    "version": 3
   },
   "file_extension": ".py",
   "mimetype": "text/x-python",
   "name": "python",
   "nbconvert_exporter": "python",
   "pygments_lexer": "ipython3",
   "version": "3.12.3"
  }
 },
 "nbformat": 4,
 "nbformat_minor": 2
}
