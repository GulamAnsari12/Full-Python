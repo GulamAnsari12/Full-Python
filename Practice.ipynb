{
 "cells": [
  {
   "cell_type": "code",
   "execution_count": 2,
   "metadata": {},
   "outputs": [
    {
     "name": "stdout",
     "output_type": "stream",
     "text": [
      "Hello Python\n",
      "<class 'str'>\n",
      "12345\n",
      "<class 'int'>\n",
      "(10.5, 45.6, 650, 'Dell')\n",
      "<class 'tuple'>\n",
      "<class 'float'>\n"
     ]
    }
   ],
   "source": [
    "a = \"Hello Python\"\n",
    "print(a)\n",
    "print(type(a))\n",
    "\n",
    "\n",
    "a = 12345\n",
    "print(a)\n",
    "print(type(a))\n",
    "\n",
    "a = 10.5,45.6,650,'Dell'\n",
    "print(a)\n",
    "print(type(a))\n",
    "\n",
    "a = 50.2\n",
    "print(type(a))"
   ]
  },
  {
   "cell_type": "code",
   "execution_count": 36,
   "metadata": {},
   "outputs": [
    {
     "name": "stdout",
     "output_type": "stream",
     "text": [
      "['mango', 'banana', 'apple']\n",
      "<class 'list'>\n",
      "('nokia', 'lava', 'Samsung,45')\n",
      "<class 'tuple'>\n",
      "['mouse', 56, 658, 666, 'keyboard', 'moniter']\n",
      "<class 'list'>\n",
      "{'cooler', 'ac', 'fridge'}\n",
      "<class 'set'>\n"
     ]
    }
   ],
   "source": [
    "a = [\"mango\",\"banana\",\"apple\"]\n",
    "print(a)\n",
    "print(type(a))\n",
    "\n",
    "s = (\"nokia\",\"lava\",\"Samsung,45\")\n",
    "print(s)\n",
    "print(type(s))\n",
    "\n",
    "g = [\"mouse\",56,658,666,\"keyboard\",\"moniter\"]\n",
    "print(g)\n",
    "print(type(g))\n",
    "\n",
    "m = {\"fridge\",\"cooler\",\"ac\"}\n",
    "print(m)\n",
    "print(type(m))\n"
   ]
  },
  {
   "cell_type": "code",
   "execution_count": 42,
   "metadata": {},
   "outputs": [
    {
     "name": "stdout",
     "output_type": "stream",
     "text": [
      "{'Name1': 'Gulam', 'Age': 20, 'Gender': 'Male', 'Qualification': 'Graduate', 'Name2': 'Arhan', 'Age2': 23, 'Gender2': 'Male', 'Qualification2': 'Intermediate'}\n",
      "Intermediate\n",
      "23\n",
      "<class 'dict'>\n"
     ]
    }
   ],
   "source": [
    "emp = {\"Name1\": \"Gulam\", \"Age\":20, \"Gender\":\"Male\", \"Qualification\":\"Graduate\",\n",
    "       \"Name2\": \"Arhan\", \"Age2\":23, \"Gender2\":\"Male\", \"Qualification2\":\"Intermediate\",\n",
    "       }\n",
    "print(emp)\n",
    "print(emp[\"Qualification2\"])\n",
    "print(emp[\"Age2\"])\n",
    "print(type(emp))"
   ]
  },
  {
   "cell_type": "code",
   "execution_count": 48,
   "metadata": {},
   "outputs": [
    {
     "name": "stdout",
     "output_type": "stream",
     "text": [
      "{'Name': 'Fateh', 'Hero': 'Sonu Sood', 'Director': 'V.Anna', 'Earning': '750cr', 'Name2': 'Race', 'Hero2': 'Salman Khan', 'Director2': 'Surya P. Rao', 'Earning2': '350cr', 'Name3': 'Hero Panti', 'Hero3': 'ShahRukh Khan', 'Director3': 'P.V. Shukla', 'Earning3': '600cr'}\n",
      "Fateh\n",
      "750cr\n",
      "ShahRukh Khan\n",
      "<class 'dict'>\n"
     ]
    }
   ],
   "source": [
    "movies = {\"Name\":\"Fateh\",\"Hero\":\"Sonu Sood\",\"Director\":\"V.Anna\",\"Earning\":\"750cr\",\n",
    "          \"Name2\":\"Race\",\"Hero2\":\"Salman Khan\",\"Director2\":\"Surya P. Rao\",\"Earning2\":\"350cr\",\n",
    "          \"Name3\":\"Hero Panti\",\"Hero3\":\"ShahRukh Khan\",\"Director3\":\"P.V. Shukla\",\"Earning3\":\"600cr\"}\n",
    "\n",
    "print(movies)\n",
    "print(movies[\"Name\"])\n",
    "print(movies[\"Earning\"])\n",
    "print(movies[\"Hero3\"])\n",
    "print(type(movies))"
   ]
  },
  {
   "cell_type": "code",
   "execution_count": 56,
   "metadata": {},
   "outputs": [
    {
     "name": "stdout",
     "output_type": "stream",
     "text": [
      "ghj\n",
      "36.0\n",
      "mm\n"
     ]
    }
   ],
   "source": [
    "name = input(\"Enter Your Name\")\n",
    "age = float(input(\"Enter Your Age\"))\n",
    "gender = input(\"Enter Your Gender\")\n",
    "\n",
    "\n",
    "print(name)\n",
    "print(age)\n",
    "print(gender)"
   ]
  },
  {
   "cell_type": "code",
   "execution_count": 63,
   "metadata": {},
   "outputs": [
    {
     "name": "stdout",
     "output_type": "stream",
     "text": [
      "Average\n"
     ]
    }
   ],
   "source": [
    "marks = int(input(\"Enter You Mark Here :\"))\n",
    "\n",
    "if marks >= 90 and marks <= 80:\n",
    "    print(\"Excelent\")\n",
    "elif marks >=80 and marks <=70:\n",
    "    print(\"Good\")\n",
    "elif marks >=70 and marks>=50 :\n",
    "    print(\"Average\")\n",
    "else:\n",
    "    print(\"Failled\")"
   ]
  },
  {
   "cell_type": "code",
   "execution_count": 3,
   "metadata": {},
   "outputs": [
    {
     "name": "stdout",
     "output_type": "stream",
     "text": [
      "Value 1 Is Greatest Number :\n"
     ]
    }
   ],
   "source": [
    "def maximum_number (val1,val2,val3):\n",
    "    if val1>val2 and val1 >val3:\n",
    "        print(\"Value 1 Is Greatest Number :\")\n",
    "    elif val2>val1 and val2>val3:\n",
    "        print(\"Value 2 is Greatest Number :\")\n",
    "    else:\n",
    "        print(\"Value 3 is Greatest Number\")\n",
    "maximum_number(2220,30,221)"
   ]
  },
  {
   "cell_type": "code",
   "execution_count": 19,
   "metadata": {},
   "outputs": [
    {
     "name": "stdout",
     "output_type": "stream",
     "text": [
      "('Mango', 'Grapes', 21, 55, 23)\n",
      "23\n",
      "('Mango', 'Grapes', 21)\n",
      "<class 'tuple'>\n"
     ]
    }
   ],
   "source": [
    "ac = \"Mango\",\"Grapes\",21,55,23\n",
    "print(ac)\n",
    "print(ac[4])\n",
    "print(ac[0:3])\n",
    "print(type(ac))"
   ]
  },
  {
   "cell_type": "code",
   "execution_count": 23,
   "metadata": {},
   "outputs": [
    {
     "name": "stdout",
     "output_type": "stream",
     "text": [
      "['mango', 'banana', 55, 88, 'apple']\n",
      "apple\n",
      "['mango', 'banana', 55]\n",
      "['banana', 55]\n"
     ]
    }
   ],
   "source": [
    "ab = [\"mango\",\"banana\",55,88,\"apple\"]\n",
    "print(ab)\n",
    "print(ab[4])\n",
    "print(ab[0:3])\n",
    "print(ab[1:3])"
   ]
  },
  {
   "cell_type": "code",
   "execution_count": 1,
   "metadata": {},
   "outputs": [],
   "source": [
    "import matplotlib.pyplot as plt"
   ]
  },
  {
   "cell_type": "code",
   "execution_count": 47,
   "metadata": {},
   "outputs": [
    {
     "data": {
      "image/png": "[encoded data removed]",
      "text/plain": [
       "<Figure size 640x480 with 1 Axes>"
      ]
     },
     "metadata": {},
     "output_type": "display_data"
    }
   ],
   "source": [
    "y = [60,55,88,90,22,93]\n",
    "x = [\"Part1\",\"Part2\",\"Part3\",\"Part4\",\"Part5\",\"Part6\"]\n",
    "\n",
    "colors = [\"red\",\"yellow\",\"pink\",\"blue\",\"green\",\"black\"]\n",
    "plt.bar(x,y, color =colors)\n",
    "plt.xlabel(\"Part of number\")\n",
    "plt.ylabel(\"Part of body\")\n",
    "\n",
    "plt.show()"
   ]
  },
  {
   "cell_type": "code",
   "execution_count": 59,
   "metadata": {},
   "outputs": [
    {
     "data": {
      "image/png": "[encoded data removed]",
      "text/plain": [
       "<Figure size 640x480 with 1 Axes>"
      ]
     },
     "metadata": {},
     "output_type": "display_data"
    }
   ],
   "source": [
    "mobile = [\"Redmi\",\"Mi\",\"Nokia\",\"Iphone\",\"Vivo\"]\n",
    "rating = [3.5,3.8,2.4,4.5,3.1]\n",
    "\n",
    "colors = [\"red\",\"black\",\"pink\",\"yellow\",\"green\"]\n",
    "plt.bar(mobile,rating, color=colors)\n",
    "plt.xlabel(\"Mobile Name\", size =20)\n",
    "plt.ylabel(\"Mibile Rating\" , size = 15,)\n",
    "\n",
    "plt.show()"
   ]
  },
  {
   "cell_type": "code",
   "execution_count": 60,
   "metadata": {},
   "outputs": [
    {
     "name": "stdout",
     "output_type": "stream",
     "text": [
      "[90 92 84]\n"
     ]
    }
   ],
   "source": [
    "a = np.array([43,48,55])\n",
    "b = np.array([47,44,29])\n",
    "\n",
    "print(a+b)"
   ]
  },
  {
   "cell_type": "code",
   "execution_count": 14,
   "metadata": {},
   "outputs": [
    {
     "data": {
      "image/png": "[encoded data removed]",
      "text/plain": [
       "<Figure size 640x480 with 1 Axes>"
      ]
     },
     "metadata": {},
     "output_type": "display_data"
    }
   ],
   "source": [
    "marks = [65,82,76,82,70]\n",
    "subject = \"Maths\",\"Art\",\"Social Sceince\",\"Hindi\",\"English\"\n",
    "\n",
    "plt.pie(marks, labels=subject, shadow=True)\n",
    "plt.show()"
   ]
  },
  {
   "cell_type": "code",
   "execution_count": 7,
   "metadata": {},
   "outputs": [
    {
     "name": "stderr",
     "output_type": "stream",
     "text": [
      "C:\\Users\\IRSHAD ANSARI\\AppData\\Local\\Temp\\ipykernel_15880\\1509239891.py:4: UserWarning: No data for colormapping provided via 'c'. Parameters 'cmap' will be ignored\n",
      "  plt.scatter(a,b, marker=\"*\", cmap=\"flag_r\")\n"
     ]
    },
    {
     "data": {
      "image/png": "[encoded data removed]",
      "text/plain": [
       "<Figure size 640x480 with 1 Axes>"
      ]
     },
     "metadata": {},
     "output_type": "display_data"
    }
   ],
   "source": [
    "a = [55,80,22,11,39,10,19,100,110,66,58]\n",
    "b = [48,333,432,67,855,34,566,78,664,34,776]\n",
    "\n",
    "plt.scatter(a,b, marker=\"*\", cmap=\"flag_r\")\n",
    "plt.legend(a)\n",
    "plt.show()\n"
   ]
  },
  {
   "cell_type": "code",
   "execution_count": 8,
   "metadata": {},
   "outputs": [],
   "source": [
    "import numpy as np"
   ]
  },
  {
   "cell_type": "code",
   "execution_count": 62,
   "metadata": {},
   "outputs": [
    {
     "name": "stdout",
     "output_type": "stream",
     "text": [
      "[133 103 135]\n"
     ]
    }
   ],
   "source": [
    "a = np.array([85,44,76])\n",
    "b = np.array([48,59,59])\n",
    "\n",
    "print(a+b)"
   ]
  },
  {
   "cell_type": "code",
   "execution_count": 52,
   "metadata": {},
   "outputs": [
    {
     "name": "stdout",
     "output_type": "stream",
     "text": [
      "{35, 55, 26, 525, 63}\n",
      "{50, 55, 56, 153, 250}\n",
      "<class 'set'>\n"
     ]
    }
   ],
   "source": [
    "x = {56,50,250,55,153}\n",
    "y = {26,35,63,525,55}\n",
    "\n",
    "print(y)\n",
    "print(x)\n",
    "print(type(x))"
   ]
  },
  {
   "cell_type": "code",
   "execution_count": 42,
   "metadata": {},
   "outputs": [
    {
     "name": "stdout",
     "output_type": "stream",
     "text": [
      "(25, 60, 37, 99, 50)\n",
      "(263, 62, 565, 878, 321)\n",
      "<class 'tuple'>\n",
      "(25, 60, 37, 99, 50, 263, 62, 565, 878, 321)\n"
     ]
    }
   ],
   "source": [
    "#list\n",
    "a = (25,60,37,99,50)\n",
    "b = (263,62,565,878,321)\n",
    "print(a)\n",
    "print(b)\n",
    "print(type(a))\n",
    "print(a+b)"
   ]
  },
  {
   "cell_type": "code",
   "execution_count": 32,
   "metadata": {},
   "outputs": [
    {
     "name": "stdout",
     "output_type": "stream",
     "text": [
      "[ 55  65  56 225 456]\n",
      "[254  32  48  42 331]\n",
      "[309  97 104 267 787]\n",
      "[ -30   -5  -19 -126 -406]\n",
      "[ 30   5  19 126 406]\n",
      "[4.61818182 0.49230769 0.85714286 0.18666667 0.72587719]\n",
      "<class 'numpy.ndarray'>\n"
     ]
    }
   ],
   "source": [
    "b=np.array([55,65,56,225,456])\n",
    "s = np.array([254,32,48,42,331])\n",
    "\n",
    "print(b)\n",
    "print(s)\n",
    "print(b+s)\n",
    "print(a-b)\n",
    "print(b-a)\n",
    "print(s/b)\n",
    "print(type(b))"
   ]
  },
  {
   "cell_type": "code",
   "execution_count": 68,
   "metadata": {},
   "outputs": [
    {
     "name": "stdout",
     "output_type": "stream",
     "text": [
      "[100 145 770 130 900]\n"
     ]
    }
   ],
   "source": [
    "a = np.array([50,65,750,90,200])\n",
    "b = ([50,80,20,40,700])\n",
    "\n",
    "print(a+b)"
   ]
  },
  {
   "cell_type": "code",
   "execution_count": 80,
   "metadata": {},
   "outputs": [
    {
     "name": "stdout",
     "output_type": "stream",
     "text": [
      "[100 100 100]\n",
      "[10 17  1]\n",
      "[100 143  39]\n"
     ]
    }
   ],
   "source": [
    "m = (45,63,19)\n",
    "s = np.array([55,80,20])\n",
    "v = [45,20,80]\n",
    "b = (45,63,19)\n",
    "print(s+v)\n",
    "print(s-b)\n",
    "print(m+s)"
   ]
  },
  {
   "cell_type": "code",
   "execution_count": 11,
   "metadata": {},
   "outputs": [
    {
     "name": "stdout",
     "output_type": "stream",
     "text": [
      "['Lucknow', 'Chowk']\n",
      "<class 'list'>\n",
      "('23', '4320', '44')\n",
      "<class 'tuple'>\n"
     ]
    }
   ],
   "source": [
    "a = [\"Lucknow\",\"Chowk\"]\n",
    "print (a)\n",
    "print(type(a))\n",
    "\n",
    "a = \"23\",\"4320\",\"44\"\n",
    "print(a)\n",
    "print(type(a))"
   ]
  },
  {
   "cell_type": "code",
   "execution_count": 14,
   "metadata": {},
   "outputs": [
    {
     "name": "stdout",
     "output_type": "stream",
     "text": [
      "344\n",
      "<class 'int'>\n"
     ]
    }
   ],
   "source": [
    "a = 344\n",
    "print(a)\n",
    "print(type(a))"
   ]
  },
  {
   "cell_type": "code",
   "execution_count": 18,
   "metadata": {},
   "outputs": [
    {
     "name": "stdout",
     "output_type": "stream",
     "text": [
      "{'Name': 'Gulam', 'Gender': 'Male', 'Mobile_Number': '9632587404', 'Name2': 'Sahjad', 'Gender2': 'Male', 'Mobile_Number2': 7412589063}\n",
      "9632587404\n",
      "<class 'dict'>\n"
     ]
    }
   ],
   "source": [
    "dic = {\"Name\":\"Gulam\", \"Gender\":\"Male\", \"Mobile_Number\":\"9632587404\",\n",
    "       \"Name2\":\"Sahjad\", \"Gender2\":\"Male\",\"Mobile_Number2\":7412589063}\n",
    "print(dic)\n",
    "print(dic[\"Mobile_Number\"])\n",
    "print(type(dic))"
   ]
  },
  {
   "cell_type": "code",
   "execution_count": 20,
   "metadata": {},
   "outputs": [
    {
     "name": "stdout",
     "output_type": "stream",
     "text": [
      "{'Name': 'Anil', 'Gender': 'Male', 'M.No': 1234567809}\n",
      "<class 'dict'>\n"
     ]
    }
   ],
   "source": [
    "dic2 = {\"Name\":\"Anil\",\"Gender\":\"Male\",\"M.No\":1234567809}\n",
    "print(dic2)\n",
    "print(type(dic2))"
   ]
  },
  {
   "cell_type": "code",
   "execution_count": 24,
   "metadata": {},
   "outputs": [
    {
     "name": "stdout",
     "output_type": "stream",
     "text": [
      "{'Male', 'Gulam', '5568+526'}\n",
      "<class 'set'>\n"
     ]
    }
   ],
   "source": [
    "st = {\"Gulam\",\"Male\",\"5568+526\"}\n",
    "print(st)\n",
    "print(type(st))"
   ]
  },
  {
   "cell_type": "code",
   "execution_count": 2,
   "metadata": {},
   "outputs": [],
   "source": [
    "import matplotlib.pyplot as plt"
   ]
  },
  {
   "cell_type": "code",
   "execution_count": 16,
   "metadata": {},
   "outputs": [
    {
     "data": {
      "image/png": "[encoded data removed]",
      "text/plain": [
       "<Figure size 640x480 with 1 Axes>"
      ]
     },
     "metadata": {},
     "output_type": "display_data"
    }
   ],
   "source": [
    "x = [\"Dell\",\"Lenovo\",\"Hp\",\"Apple\",\"Acer\"]\n",
    "y = [4.3,4.2,4.0,4.4,3.8]\n",
    "\n",
    "colors = (\"blue\",\"green\",\"pink\",\"black\",\"yellow\")\n",
    "plt.bar(x,y,color=colors, edgecolor =\"Red\")\n",
    "plt.xlabel(\"Name of Laptop\" , size = 15)\n",
    "plt.ylabel(\"Rating of Laptop\", size = 15)\n",
    "plt.show()"
   ]
  },
  {
   "cell_type": "code",
   "execution_count": 1,
   "metadata": {},
   "outputs": [],
   "source": [
    "import numpy as np\n",
    "import pandas as pd\n"
   ]
  },
  {
   "cell_type": "code",
   "execution_count": 37,
   "metadata": {},
   "outputs": [
    {
     "name": "stdout",
     "output_type": "stream",
     "text": [
      "   Fruits  Price  Quantity\n",
      "0   Mango     80        10\n",
      "1  Banana     50        30\n",
      "2   Apple    160        20\n",
      "3  Grapes    120        40\n",
      "0     80\n",
      "1     50\n",
      "2    160\n",
      "3    120\n",
      "Name: Price, dtype: int64\n"
     ]
    }
   ],
   "source": [
    "data = {\"Fruits\":[\"Mango\",\"Banana\",\"Apple\",\"Grapes\"],\n",
    "        \"Price\":[80,50,160,120],\n",
    "        \"Quantity\":[10,30,20,40]}\n",
    "df =pd.DataFrame(data)\n",
    "\n",
    "\n",
    "print(df)\n",
    "print(df[\"Price\"])"
   ]
  },
  {
   "cell_type": "code",
   "execution_count": 40,
   "metadata": {},
   "outputs": [
    {
     "data": {
      "text/html": [
       "<div>\n",
       "<style scoped>\n",
       "    .dataframe tbody tr th:only-of-type {\n",
       "        vertical-align: middle;\n",
       "    }\n",
       "\n",
       "    .dataframe tbody tr th {\n",
       "        vertical-align: top;\n",
       "    }\n",
       "\n",
       "    .dataframe thead th {\n",
       "        text-align: right;\n",
       "    }\n",
       "</style>\n",
       "<table border=\"1\" class=\"dataframe\">\n",
       "  <thead>\n",
       "    <tr style=\"text-align: right;\">\n",
       "      <th></th>\n",
       "      <th>EEID</th>\n",
       "      <th>Full Name</th>\n",
       "      <th>Job Title</th>\n",
       "      <th>Department</th>\n",
       "      <th>Business Unit</th>\n",
       "      <th>Gender</th>\n",
       "      <th>Ethnicity</th>\n",
       "      <th>Age</th>\n",
       "      <th>Hire Date</th>\n",
       "      <th>Annual Salary</th>\n",
       "      <th>Bonus %</th>\n",
       "      <th>Country</th>\n",
       "      <th>City</th>\n",
       "      <th>Exit Date</th>\n",
       "    </tr>\n",
       "  </thead>\n",
       "  <tbody>\n",
       "    <tr>\n",
       "      <th>0</th>\n",
       "      <td>E02387</td>\n",
       "      <td>Emily Davis</td>\n",
       "      <td>Sr. Manger</td>\n",
       "      <td>IT</td>\n",
       "      <td>Research &amp; Development</td>\n",
       "      <td>Female</td>\n",
       "      <td>Black</td>\n",
       "      <td>55</td>\n",
       "      <td>2016-04-08</td>\n",
       "      <td>141604</td>\n",
       "      <td>0.15</td>\n",
       "      <td>United States</td>\n",
       "      <td>Seattle</td>\n",
       "      <td>2021-10-16</td>\n",
       "    </tr>\n",
       "    <tr>\n",
       "      <th>1</th>\n",
       "      <td>E04105</td>\n",
       "      <td>Theodore Dinh</td>\n",
       "      <td>Technical Architect</td>\n",
       "      <td>IT</td>\n",
       "      <td>Manufacturing</td>\n",
       "      <td>Male</td>\n",
       "      <td>Asian</td>\n",
       "      <td>59</td>\n",
       "      <td>1997-11-29</td>\n",
       "      <td>99975</td>\n",
       "      <td>0.00</td>\n",
       "      <td>China</td>\n",
       "      <td>Chongqing</td>\n",
       "      <td>NaT</td>\n",
       "    </tr>\n",
       "    <tr>\n",
       "      <th>2</th>\n",
       "      <td>E02572</td>\n",
       "      <td>Luna Sanders</td>\n",
       "      <td>Director</td>\n",
       "      <td>Finance</td>\n",
       "      <td>Speciality Products</td>\n",
       "      <td>Female</td>\n",
       "      <td>Caucasian</td>\n",
       "      <td>50</td>\n",
       "      <td>2006-10-26</td>\n",
       "      <td>163099</td>\n",
       "      <td>0.20</td>\n",
       "      <td>United States</td>\n",
       "      <td>Chicago</td>\n",
       "      <td>NaT</td>\n",
       "    </tr>\n",
       "    <tr>\n",
       "      <th>3</th>\n",
       "      <td>E02832</td>\n",
       "      <td>Penelope Jordan</td>\n",
       "      <td>Computer Systems Manager</td>\n",
       "      <td>IT</td>\n",
       "      <td>Manufacturing</td>\n",
       "      <td>Female</td>\n",
       "      <td>Caucasian</td>\n",
       "      <td>26</td>\n",
       "      <td>2019-09-27</td>\n",
       "      <td>84913</td>\n",
       "      <td>0.07</td>\n",
       "      <td>United States</td>\n",
       "      <td>Chicago</td>\n",
       "      <td>NaT</td>\n",
       "    </tr>\n",
       "    <tr>\n",
       "      <th>4</th>\n",
       "      <td>E01639</td>\n",
       "      <td>Austin Vo</td>\n",
       "      <td>Sr. Analyst</td>\n",
       "      <td>Finance</td>\n",
       "      <td>Manufacturing</td>\n",
       "      <td>Male</td>\n",
       "      <td>Asian</td>\n",
       "      <td>55</td>\n",
       "      <td>1995-11-20</td>\n",
       "      <td>95409</td>\n",
       "      <td>0.00</td>\n",
       "      <td>United States</td>\n",
       "      <td>Phoenix</td>\n",
       "      <td>NaT</td>\n",
       "    </tr>\n",
       "    <tr>\n",
       "      <th>...</th>\n",
       "      <td>...</td>\n",
       "      <td>...</td>\n",
       "      <td>...</td>\n",
       "      <td>...</td>\n",
       "      <td>...</td>\n",
       "      <td>...</td>\n",
       "      <td>...</td>\n",
       "      <td>...</td>\n",
       "      <td>...</td>\n",
       "      <td>...</td>\n",
       "      <td>...</td>\n",
       "      <td>...</td>\n",
       "      <td>...</td>\n",
       "      <td>...</td>\n",
       "    </tr>\n",
       "    <tr>\n",
       "      <th>995</th>\n",
       "      <td>E03094</td>\n",
       "      <td>Wesley Young</td>\n",
       "      <td>Sr. Analyst</td>\n",
       "      <td>Marketing</td>\n",
       "      <td>Speciality Products</td>\n",
       "      <td>Male</td>\n",
       "      <td>Caucasian</td>\n",
       "      <td>33</td>\n",
       "      <td>2016-09-18</td>\n",
       "      <td>98427</td>\n",
       "      <td>0.00</td>\n",
       "      <td>United States</td>\n",
       "      <td>Columbus</td>\n",
       "      <td>NaT</td>\n",
       "    </tr>\n",
       "    <tr>\n",
       "      <th>996</th>\n",
       "      <td>E01909</td>\n",
       "      <td>Lillian Khan</td>\n",
       "      <td>Analyst</td>\n",
       "      <td>Finance</td>\n",
       "      <td>Speciality Products</td>\n",
       "      <td>Female</td>\n",
       "      <td>Asian</td>\n",
       "      <td>44</td>\n",
       "      <td>2010-05-31</td>\n",
       "      <td>47387</td>\n",
       "      <td>0.00</td>\n",
       "      <td>China</td>\n",
       "      <td>Chengdu</td>\n",
       "      <td>2018-01-08</td>\n",
       "    </tr>\n",
       "    <tr>\n",
       "      <th>997</th>\n",
       "      <td>E04398</td>\n",
       "      <td>Oliver Yang</td>\n",
       "      <td>Director</td>\n",
       "      <td>Marketing</td>\n",
       "      <td>Speciality Products</td>\n",
       "      <td>Male</td>\n",
       "      <td>Asian</td>\n",
       "      <td>31</td>\n",
       "      <td>2019-06-10</td>\n",
       "      <td>176710</td>\n",
       "      <td>0.15</td>\n",
       "      <td>United States</td>\n",
       "      <td>Miami</td>\n",
       "      <td>NaT</td>\n",
       "    </tr>\n",
       "    <tr>\n",
       "      <th>998</th>\n",
       "      <td>E02521</td>\n",
       "      <td>Lily Nguyen</td>\n",
       "      <td>Sr. Analyst</td>\n",
       "      <td>Finance</td>\n",
       "      <td>Speciality Products</td>\n",
       "      <td>Female</td>\n",
       "      <td>Asian</td>\n",
       "      <td>33</td>\n",
       "      <td>2012-01-28</td>\n",
       "      <td>95960</td>\n",
       "      <td>0.00</td>\n",
       "      <td>China</td>\n",
       "      <td>Chengdu</td>\n",
       "      <td>NaT</td>\n",
       "    </tr>\n",
       "    <tr>\n",
       "      <th>999</th>\n",
       "      <td>E03545</td>\n",
       "      <td>Sofia Cheng</td>\n",
       "      <td>Vice President</td>\n",
       "      <td>Accounting</td>\n",
       "      <td>Corporate</td>\n",
       "      <td>Female</td>\n",
       "      <td>Asian</td>\n",
       "      <td>63</td>\n",
       "      <td>2020-07-26</td>\n",
       "      <td>216195</td>\n",
       "      <td>0.31</td>\n",
       "      <td>United States</td>\n",
       "      <td>Miami</td>\n",
       "      <td>NaT</td>\n",
       "    </tr>\n",
       "  </tbody>\n",
       "</table>\n",
       "<p>1000 rows × 14 columns</p>\n",
       "</div>"
      ],
      "text/plain": [
       "       EEID        Full Name                 Job Title  Department  \\\n",
       "0    E02387      Emily Davis                Sr. Manger          IT   \n",
       "1    E04105    Theodore Dinh       Technical Architect          IT   \n",
       "2    E02572     Luna Sanders                  Director     Finance   \n",
       "3    E02832  Penelope Jordan  Computer Systems Manager          IT   \n",
       "4    E01639        Austin Vo               Sr. Analyst     Finance   \n",
       "..      ...              ...                       ...         ...   \n",
       "995  E03094     Wesley Young               Sr. Analyst   Marketing   \n",
       "996  E01909     Lillian Khan                   Analyst     Finance   \n",
       "997  E04398      Oliver Yang                  Director   Marketing   \n",
       "998  E02521      Lily Nguyen               Sr. Analyst     Finance   \n",
       "999  E03545      Sofia Cheng            Vice President  Accounting   \n",
       "\n",
       "              Business Unit  Gender  Ethnicity  Age  Hire Date  Annual Salary  \\\n",
       "0    Research & Development  Female      Black   55 2016-04-08         141604   \n",
       "1             Manufacturing    Male      Asian   59 1997-11-29          99975   \n",
       "2       Speciality Products  Female  Caucasian   50 2006-10-26         163099   \n",
       "3             Manufacturing  Female  Caucasian   26 2019-09-27          84913   \n",
       "4             Manufacturing    Male      Asian   55 1995-11-20          95409   \n",
       "..                      ...     ...        ...  ...        ...            ...   \n",
       "995     Speciality Products    Male  Caucasian   33 2016-09-18          98427   \n",
       "996     Speciality Products  Female      Asian   44 2010-05-31          47387   \n",
       "997     Speciality Products    Male      Asian   31 2019-06-10         176710   \n",
       "998     Speciality Products  Female      Asian   33 2012-01-28          95960   \n",
       "999               Corporate  Female      Asian   63 2020-07-26         216195   \n",
       "\n",
       "     Bonus %        Country       City  Exit Date  \n",
       "0       0.15  United States    Seattle 2021-10-16  \n",
       "1       0.00          China  Chongqing        NaT  \n",
       "2       0.20  United States    Chicago        NaT  \n",
       "3       0.07  United States    Chicago        NaT  \n",
       "4       0.00  United States    Phoenix        NaT  \n",
       "..       ...            ...        ...        ...  \n",
       "995     0.00  United States   Columbus        NaT  \n",
       "996     0.00          China    Chengdu 2018-01-08  \n",
       "997     0.15  United States      Miami        NaT  \n",
       "998     0.00          China    Chengdu        NaT  \n",
       "999     0.31  United States      Miami        NaT  \n",
       "\n",
       "[1000 rows x 14 columns]"
      ]
     },
     "execution_count": 40,
     "metadata": {},
     "output_type": "execute_result"
    }
   ],
   "source": [
    "a = pd.read_excel(\"ESD.xlsx\")\n",
    "a\n",
    "df = pd.DataFrame(a)\n",
    "df"
   ]
  },
  {
   "cell_type": "code",
   "execution_count": 47,
   "metadata": {},
   "outputs": [
    {
     "name": "stdout",
     "output_type": "stream",
     "text": [
      "113217.365\n",
      "113217365\n",
      "1000\n"
     ]
    }
   ],
   "source": [
    "print(df[\"Annual Salary\"].mean())\n",
    "print(df[\"Annual Salary\"].sum())\n",
    "print(df[\"Annual Salary\"].count())\n"
   ]
  },
  {
   "cell_type": "code",
   "execution_count": 21,
   "metadata": {},
   "outputs": [
    {
     "name": "stdout",
     "output_type": "stream",
     "text": [
      "Hello World\n",
      "<class 'str'>\n",
      "12345\n",
      "<class 'int'>\n",
      "422.42\n",
      "<class 'float'>\n",
      "('Hello', 'World')\n",
      "<class 'tuple'>\n",
      "['Hello World']\n",
      "<class 'list'>\n",
      "{'Hello World'}\n",
      "<class 'set'>\n",
      "{'Name': 'Hello World'}\n",
      "<class 'dict'>\n",
      "[44, 5, 45, 54, 'Hello', 'World']\n",
      "<class 'list'>\n",
      "('Hi', 434, 55, 'Hello')\n",
      "<class 'tuple'>\n"
     ]
    }
   ],
   "source": [
    "a = \"Hello World\"\n",
    "print(a)\n",
    "print(type(a))\n",
    "\n",
    "b = 12345\n",
    "print(b)\n",
    "print(type(b))\n",
    "\n",
    "c = 422.42\n",
    "print(c)\n",
    "print(type(c))\n",
    "\n",
    "d = \"Hello\",\"World\"\n",
    "print(d)\n",
    "print(type(d))\n",
    "\n",
    "e = [\"Hello World\"]\n",
    "print(e)\n",
    "print(type(e))\n",
    "\n",
    "f = {\"Hello World\"}\n",
    "print(f)\n",
    "print(type(f))\n",
    "\n",
    "g = {\"Name\":\"Hello World\"}\n",
    "print(g)\n",
    "print(type(g))\n",
    "\n",
    "h = [44,5,45,54, \"Hello\",\"World\"]\n",
    "print(h)\n",
    "print(type(h))\n",
    "\n",
    "i = (\"Hi\",434,55,\"Hello\")\n",
    "print(i)\n",
    "print(type(i))\n"
   ]
  },
  {
   "cell_type": "code",
   "execution_count": 15,
   "metadata": {},
   "outputs": [
    {
     "data": {
      "image/png": "[encoded data removed]",
      "text/plain": [
       "<Figure size 640x480 with 1 Axes>"
      ]
     },
     "metadata": {},
     "output_type": "display_data"
    }
   ],
   "source": [
    "a = [\"Hindi\",\"Math\",\"S.Science\",\"Art\",\"English\"]\n",
    "b = [82,65,75,85,78]\n",
    "\n",
    "c = \"yellow\"\n",
    "plt.bar(a,b,color = c, edgecolor = \"red\" )\n",
    "plt.title(\"Marks of the Student\", size = 7)\n",
    "plt.ylabel(\"Name of Subject\", size = 12)\n",
    "plt.xlabel(\"Number of Subject\", size = 12)\n",
    "plt.show()"
   ]
  },
  {
   "cell_type": "code",
   "execution_count": 20,
   "metadata": {},
   "outputs": [
    {
     "data": {
      "image/png": "[encoded data removed]",
      "text/plain": [
       "<Figure size 640x480 with 1 Axes>"
      ]
     },
     "metadata": {},
     "output_type": "display_data"
    }
   ],
   "source": [
    "a = [\"Hindi\",\"Math\",\"S.Science\",\"Art\",\"English\"]\n",
    "b = [82,65,75,85,78]\n",
    "\n",
    "c = \"yellow\"\n",
    "plt.bar(a,b , color = c, edgecolor = \"r\", width=0.5)\n",
    "plt.title(\"Marks of the Student\", size = 20)\n",
    "plt.ylabel(\"Name of Subject\", size = 12)\n",
    "plt.xlabel(\"Number of Subject\", size = 12)\n",
    "plt.show()"
   ]
  },
  {
   "cell_type": "code",
   "execution_count": null,
   "metadata": {},
   "outputs": [
    {
     "data": {
      "image/png": "[encoded data removed]",
      "text/plain": [
       "<Figure size 640x480 with 1 Axes>"
      ]
     },
     "metadata": {},
     "output_type": "display_data"
    }
   ],
   "source": [
    "d = [\"Uttar Pradesh\",\"Gujarat\",\"Madhya Pradesh\",\"Maharashtra\",\"Punjab\"]\n",
    "s = [45,54,67,87,90]\n",
    "\n",
    "plt.pie(s)\n",
    "plt.legend(d,)\n",
    "plt.show()"
   ]
  },
  {
   "cell_type": "code",
   "execution_count": null,
   "metadata": {},
   "outputs": [
    {
     "data": {
      "image/png": "[encoded data removed]",
      "text/plain": [
       "<Figure size 640x480 with 1 Axes>"
      ]
     },
     "metadata": {},
     "output_type": "display_data"
    }
   ],
   "source": [
    "s = [122,424,643,643,332]\n",
    "b = [1,2,3,4,5]\n",
    "\n",
    "plt.pie(s,)\n",
    "plt.legend(b,)\n",
    "plt.show()"
   ]
  },
  {
   "cell_type": "code",
   "execution_count": 49,
   "metadata": {},
   "outputs": [
    {
     "data": {
      "image/png": "[encoded data removed]",
      "text/plain": [
       "<Figure size 640x480 with 1 Axes>"
      ]
     },
     "metadata": {},
     "output_type": "display_data"
    }
   ],
   "source": [
    "m = [3,4,5,7,5,6,9,3]\n",
    "n = [480,924,321,501,2665,56,556,643]\n",
    "\n",
    "plt.scatter(m , n , color =\"red\", marker=\"*\")\n",
    "plt.title(\"Just Practice Purpose\", size = 20, color=\"g\")\n",
    "plt.show()"
   ]
  },
  {
   "cell_type": "code",
   "execution_count": 55,
   "metadata": {},
   "outputs": [
    {
     "data": {
      "image/png": "[encoded data removed]",
      "text/plain": [
       "<Figure size 640x480 with 1 Axes>"
      ]
     },
     "metadata": {},
     "output_type": "display_data"
    }
   ],
   "source": [
    "h = [345,564,221,624,732,295]\n",
    "s = [43,54,32,66,53,74]\n",
    "\n",
    "plt.hist(h,edgecolor = \"r\")\n",
    "plt.show()"
   ]
  },
  {
   "cell_type": "code",
   "execution_count": 73,
   "metadata": {},
   "outputs": [
    {
     "data": {
      "image/png": "[encoded data removed]",
      "text/plain": [
       "<Figure size 640x480 with 1 Axes>"
      ]
     },
     "metadata": {},
     "output_type": "display_data"
    }
   ],
   "source": [
    "l = [66,70,88,93,99]\n",
    "s = [43,53,63,74,95]\n",
    "d = [111,120,145,152,160]\n",
    "plt.plot(l, marker = \"*\", color=\"r\", ls = \"--\")\n",
    "plt.plot(s, marker = \"o\", color =\"g\")\n",
    "plt.plot(d, marker = \"^\", color = \"black\")\n",
    "plt.show()"
   ]
  },
  {
   "cell_type": "code",
   "execution_count": 27,
   "metadata": {},
   "outputs": [
    {
     "name": "stdout",
     "output_type": "stream",
     "text": [
      "['Apple', 'Grapes', 'Mango', 'Pineapple', 'Papaya']\n",
      "<class 'list'>\n",
      "Mango\n",
      "['Grapes']\n",
      "['Mango', 'Pineapple']\n",
      "Mango\n",
      "Pineapple\n",
      "Pineapple\n",
      "['Grapes', 'Mango']\n"
     ]
    }
   ],
   "source": [
    "a = [\"Apple\",\"Grapes\",\"Mango\",\"Pineapple\",\"Papaya\"]\n",
    "print(a)\n",
    "print(type(a))\n",
    "print(a[2])\n",
    "print(a[1:2])\n",
    "print(a[2:4])\n",
    "print(a[-3])\n",
    "print(a[-2])\n",
    "print(a[3])\n",
    "print(a[1:3])"
   ]
  },
  {
   "cell_type": "code",
   "execution_count": 71,
   "metadata": {},
   "outputs": [
    {
     "name": "stdout",
     "output_type": "stream",
     "text": [
      "('Pineapple', 'Guvava', 'Mango', 'Grapes')\n",
      "<class 'tuple'>\n",
      "Mango\n",
      "('Guvava', 'Mango')\n"
     ]
    }
   ],
   "source": [
    "b = (\"Pineapple\",\"Guvava\",\"Mango\",\"Grapes\")\n",
    "print(b)\n",
    "print(type(b))\n",
    "print(b[2])\n",
    "print(b[1:3])"
   ]
  },
  {
   "cell_type": "code",
   "execution_count": 72,
   "metadata": {},
   "outputs": [
    {
     "data": {
      "text/html": [
       "<div>\n",
       "<style scoped>\n",
       "    .dataframe tbody tr th:only-of-type {\n",
       "        vertical-align: middle;\n",
       "    }\n",
       "\n",
       "    .dataframe tbody tr th {\n",
       "        vertical-align: top;\n",
       "    }\n",
       "\n",
       "    .dataframe thead th {\n",
       "        text-align: right;\n",
       "    }\n",
       "</style>\n",
       "<table border=\"1\" class=\"dataframe\">\n",
       "  <thead>\n",
       "    <tr style=\"text-align: right;\">\n",
       "      <th></th>\n",
       "      <th>0</th>\n",
       "    </tr>\n",
       "  </thead>\n",
       "  <tbody>\n",
       "    <tr>\n",
       "      <th>0</th>\n",
       "      <td>Pineapple</td>\n",
       "    </tr>\n",
       "    <tr>\n",
       "      <th>1</th>\n",
       "      <td>Guvava</td>\n",
       "    </tr>\n",
       "    <tr>\n",
       "      <th>2</th>\n",
       "      <td>Mango</td>\n",
       "    </tr>\n",
       "    <tr>\n",
       "      <th>3</th>\n",
       "      <td>Grapes</td>\n",
       "    </tr>\n",
       "  </tbody>\n",
       "</table>\n",
       "</div>"
      ],
      "text/plain": [
       "           0\n",
       "0  Pineapple\n",
       "1     Guvava\n",
       "2      Mango\n",
       "3     Grapes"
      ]
     },
     "execution_count": 72,
     "metadata": {},
     "output_type": "execute_result"
    }
   ],
   "source": [
    "pd.DataFrame(b)"
   ]
  },
  {
   "cell_type": "code",
   "execution_count": 84,
   "metadata": {},
   "outputs": [
    {
     "name": "stdout",
     "output_type": "stream",
     "text": [
      "[32 45 66 39]\n",
      "[53 76 77 34]\n",
      "<class 'numpy.ndarray'>\n",
      "<class 'numpy.ndarray'>\n",
      "[ 85 121 143  73]\n"
     ]
    }
   ],
   "source": [
    "x = np.array([32,45,66,39])\n",
    "y = np.array([53,76,77,34])\n",
    "print(x)\n",
    "print(y)\n",
    "print(type(x))\n",
    "print(type(y))\n",
    "print(x+y)\n",
    "\n"
   ]
  },
  {
   "cell_type": "code",
   "execution_count": 66,
   "metadata": {},
   "outputs": [
    {
     "name": "stdout",
     "output_type": "stream",
     "text": [
      "{'Fruits': ['Apple', 'Mango', 'Grapes', 'Papaya', 'Apple', 'Grapes'], 'Price': [150, 60, 40, 50, 120, 20], 'Quantity': [10, 15, 25, 20, 5, 5]}\n",
      "<class 'dict'>\n"
     ]
    },
    {
     "data": {
      "text/plain": [
       "{'Fruits': ['Apple', 'Mango', 'Grapes', 'Papaya', 'Apple', 'Grapes'],\n",
       " 'Price': [150, 60, 40, 50, 120, 20],\n",
       " 'Quantity': [10, 15, 25, 20, 5, 5]}"
      ]
     },
     "execution_count": 66,
     "metadata": {},
     "output_type": "execute_result"
    }
   ],
   "source": [
    "s = {\"Fruits\":[\"Apple\", \"Mango\",\"Grapes\",\"Papaya\",\"Apple\",\"Grapes\"],\n",
    "     \"Price\":[150,60,40,50,120,20],\n",
    "     \"Quantity\":[10,15,25,20,5,5]}\n",
    "print(s)\n",
    "print(type(s))\n",
    "b = pd.DataFrame(s)\n",
    "s"
   ]
  },
  {
   "cell_type": "code",
   "execution_count": 67,
   "metadata": {},
   "outputs": [
    {
     "data": {
      "text/html": [
       "<div>\n",
       "<style scoped>\n",
       "    .dataframe tbody tr th:only-of-type {\n",
       "        vertical-align: middle;\n",
       "    }\n",
       "\n",
       "    .dataframe tbody tr th {\n",
       "        vertical-align: top;\n",
       "    }\n",
       "\n",
       "    .dataframe thead th {\n",
       "        text-align: right;\n",
       "    }\n",
       "</style>\n",
       "<table border=\"1\" class=\"dataframe\">\n",
       "  <thead>\n",
       "    <tr style=\"text-align: right;\">\n",
       "      <th></th>\n",
       "      <th>Fruits</th>\n",
       "      <th>Price</th>\n",
       "      <th>Quantity</th>\n",
       "    </tr>\n",
       "  </thead>\n",
       "  <tbody>\n",
       "    <tr>\n",
       "      <th>0</th>\n",
       "      <td>Apple</td>\n",
       "      <td>150</td>\n",
       "      <td>10</td>\n",
       "    </tr>\n",
       "    <tr>\n",
       "      <th>1</th>\n",
       "      <td>Mango</td>\n",
       "      <td>60</td>\n",
       "      <td>15</td>\n",
       "    </tr>\n",
       "    <tr>\n",
       "      <th>2</th>\n",
       "      <td>Grapes</td>\n",
       "      <td>40</td>\n",
       "      <td>25</td>\n",
       "    </tr>\n",
       "    <tr>\n",
       "      <th>3</th>\n",
       "      <td>Papaya</td>\n",
       "      <td>50</td>\n",
       "      <td>20</td>\n",
       "    </tr>\n",
       "    <tr>\n",
       "      <th>4</th>\n",
       "      <td>Apple</td>\n",
       "      <td>120</td>\n",
       "      <td>5</td>\n",
       "    </tr>\n",
       "    <tr>\n",
       "      <th>5</th>\n",
       "      <td>Grapes</td>\n",
       "      <td>20</td>\n",
       "      <td>5</td>\n",
       "    </tr>\n",
       "  </tbody>\n",
       "</table>\n",
       "</div>"
      ],
      "text/plain": [
       "   Fruits  Price  Quantity\n",
       "0   Apple    150        10\n",
       "1   Mango     60        15\n",
       "2  Grapes     40        25\n",
       "3  Papaya     50        20\n",
       "4   Apple    120         5\n",
       "5  Grapes     20         5"
      ]
     },
     "execution_count": 67,
     "metadata": {},
     "output_type": "execute_result"
    }
   ],
   "source": [
    "b"
   ]
  },
  {
   "cell_type": "code",
   "execution_count": 79,
   "metadata": {},
   "outputs": [
    {
     "name": "stdout",
     "output_type": "stream",
     "text": [
      "{'Company': ('Dell', 'Hp', 'Lenovo', 'Apple'), 'price': (45000, 64000, 38000, 70000), 'quantity': (10, 15, 25, 10)}\n",
      "<class 'dict'>\n",
      "('Dell', 'Hp', 'Lenovo', 'Apple')\n",
      "(45000, 64000, 38000, 70000)\n"
     ]
    }
   ],
   "source": [
    "g = {\"Company\":(\"Dell\",\"Hp\",\"Lenovo\",\"Apple\"),\n",
    "     \"price\":(45000,64000,38000,70000),\n",
    "     \"quantity\":(10,15,25,10)}\n",
    "print(g)\n",
    "print(type(g))\n",
    "print(g[\"Company\"])\n",
    "print(g[\"price\"])"
   ]
  },
  {
   "cell_type": "code",
   "execution_count": 70,
   "metadata": {},
   "outputs": [
    {
     "data": {
      "text/html": [
       "<div>\n",
       "<style scoped>\n",
       "    .dataframe tbody tr th:only-of-type {\n",
       "        vertical-align: middle;\n",
       "    }\n",
       "\n",
       "    .dataframe tbody tr th {\n",
       "        vertical-align: top;\n",
       "    }\n",
       "\n",
       "    .dataframe thead th {\n",
       "        text-align: right;\n",
       "    }\n",
       "</style>\n",
       "<table border=\"1\" class=\"dataframe\">\n",
       "  <thead>\n",
       "    <tr style=\"text-align: right;\">\n",
       "      <th></th>\n",
       "      <th>Company</th>\n",
       "      <th>price</th>\n",
       "      <th>quantity</th>\n",
       "    </tr>\n",
       "  </thead>\n",
       "  <tbody>\n",
       "    <tr>\n",
       "      <th>0</th>\n",
       "      <td>Dell</td>\n",
       "      <td>45000</td>\n",
       "      <td>10</td>\n",
       "    </tr>\n",
       "    <tr>\n",
       "      <th>1</th>\n",
       "      <td>Hp</td>\n",
       "      <td>64000</td>\n",
       "      <td>15</td>\n",
       "    </tr>\n",
       "    <tr>\n",
       "      <th>2</th>\n",
       "      <td>Lenovo</td>\n",
       "      <td>38000</td>\n",
       "      <td>25</td>\n",
       "    </tr>\n",
       "    <tr>\n",
       "      <th>3</th>\n",
       "      <td>Apple</td>\n",
       "      <td>70000</td>\n",
       "      <td>10</td>\n",
       "    </tr>\n",
       "  </tbody>\n",
       "</table>\n",
       "</div>"
      ],
      "text/plain": [
       "  Company  price  quantity\n",
       "0    Dell  45000        10\n",
       "1      Hp  64000        15\n",
       "2  Lenovo  38000        25\n",
       "3   Apple  70000        10"
      ]
     },
     "execution_count": 70,
     "metadata": {},
     "output_type": "execute_result"
    }
   ],
   "source": [
    "pd.DataFrame(g)\n"
   ]
  },
  {
   "cell_type": "code",
   "execution_count": 81,
   "metadata": {},
   "outputs": [
    {
     "name": "stdout",
     "output_type": "stream",
     "text": [
      "{'James', 'Bravo', 'Cameroon', 'Lorenn'}\n",
      "<class 'set'>\n"
     ]
    }
   ],
   "source": [
    "s1 = {\"Lorenn\",\"James\",\"Bravo\",\"Cameroon\"}\n",
    "print(s1)\n",
    "print(type(s1))"
   ]
  },
  {
   "cell_type": "code",
   "execution_count": null,
   "metadata": {},
   "outputs": [
    {
     "data": {
      "image/png": "[encoded data removed]",
      "text/plain": [
       "<Figure size 640x480 with 1 Axes>"
      ]
     },
     "metadata": {},
     "output_type": "display_data"
    }
   ],
   "source": [
    "f = [\"Mango\",\"Grapes\",\"Apple\",\"Guava\",\"Papaya\"]\n",
    "p = [60,80,160,40,50]\n",
    "\n",
    "c = [\"yellow\",\"green\",\"red\",\"y\",\"yellow\"]\n",
    "plt.bar(f,p, color = c,)\n",
    "plt.title(\"Fruites\", size = 15)\n",
    "plt.xlabel(\"Fruits Name\", size = 10)\n",
    "plt.ylabel(\"Price of Fruits\", size = 10)\n",
    "plt.show()"
   ]
  },
  {
   "cell_type": "code",
   "execution_count": 4,
   "metadata": {},
   "outputs": [
    {
     "data": {
      "text/html": [
       "<div>\n",
       "<style scoped>\n",
       "    .dataframe tbody tr th:only-of-type {\n",
       "        vertical-align: middle;\n",
       "    }\n",
       "\n",
       "    .dataframe tbody tr th {\n",
       "        vertical-align: top;\n",
       "    }\n",
       "\n",
       "    .dataframe thead th {\n",
       "        text-align: right;\n",
       "    }\n",
       "</style>\n",
       "<table border=\"1\" class=\"dataframe\">\n",
       "  <thead>\n",
       "    <tr style=\"text-align: right;\">\n",
       "      <th></th>\n",
       "      <th>EEID</th>\n",
       "      <th>Full Name</th>\n",
       "      <th>Job Title</th>\n",
       "      <th>Department</th>\n",
       "      <th>Business Unit</th>\n",
       "      <th>Gender</th>\n",
       "      <th>Ethnicity</th>\n",
       "      <th>Age</th>\n",
       "      <th>Hire Date</th>\n",
       "      <th>Annual Salary</th>\n",
       "      <th>Bonus %</th>\n",
       "      <th>Country</th>\n",
       "      <th>City</th>\n",
       "      <th>Exit Date</th>\n",
       "    </tr>\n",
       "  </thead>\n",
       "  <tbody>\n",
       "    <tr>\n",
       "      <th>0</th>\n",
       "      <td>E02387</td>\n",
       "      <td>Emily Davis</td>\n",
       "      <td>Sr. Manger</td>\n",
       "      <td>IT</td>\n",
       "      <td>Research &amp; Development</td>\n",
       "      <td>Female</td>\n",
       "      <td>Black</td>\n",
       "      <td>55</td>\n",
       "      <td>2016-04-08</td>\n",
       "      <td>141604</td>\n",
       "      <td>0.15</td>\n",
       "      <td>United States</td>\n",
       "      <td>Seattle</td>\n",
       "      <td>2021-10-16</td>\n",
       "    </tr>\n",
       "    <tr>\n",
       "      <th>1</th>\n",
       "      <td>E04105</td>\n",
       "      <td>Theodore Dinh</td>\n",
       "      <td>Technical Architect</td>\n",
       "      <td>IT</td>\n",
       "      <td>Manufacturing</td>\n",
       "      <td>Male</td>\n",
       "      <td>Asian</td>\n",
       "      <td>59</td>\n",
       "      <td>1997-11-29</td>\n",
       "      <td>99975</td>\n",
       "      <td>0.00</td>\n",
       "      <td>China</td>\n",
       "      <td>Chongqing</td>\n",
       "      <td>NaT</td>\n",
       "    </tr>\n",
       "    <tr>\n",
       "      <th>2</th>\n",
       "      <td>E02572</td>\n",
       "      <td>Luna Sanders</td>\n",
       "      <td>Director</td>\n",
       "      <td>Finance</td>\n",
       "      <td>Speciality Products</td>\n",
       "      <td>Female</td>\n",
       "      <td>Caucasian</td>\n",
       "      <td>50</td>\n",
       "      <td>2006-10-26</td>\n",
       "      <td>163099</td>\n",
       "      <td>0.20</td>\n",
       "      <td>United States</td>\n",
       "      <td>Chicago</td>\n",
       "      <td>NaT</td>\n",
       "    </tr>\n",
       "    <tr>\n",
       "      <th>3</th>\n",
       "      <td>E02832</td>\n",
       "      <td>Penelope Jordan</td>\n",
       "      <td>Computer Systems Manager</td>\n",
       "      <td>IT</td>\n",
       "      <td>Manufacturing</td>\n",
       "      <td>Female</td>\n",
       "      <td>Caucasian</td>\n",
       "      <td>26</td>\n",
       "      <td>2019-09-27</td>\n",
       "      <td>84913</td>\n",
       "      <td>0.07</td>\n",
       "      <td>United States</td>\n",
       "      <td>Chicago</td>\n",
       "      <td>NaT</td>\n",
       "    </tr>\n",
       "    <tr>\n",
       "      <th>4</th>\n",
       "      <td>E01639</td>\n",
       "      <td>Austin Vo</td>\n",
       "      <td>Sr. Analyst</td>\n",
       "      <td>Finance</td>\n",
       "      <td>Manufacturing</td>\n",
       "      <td>Male</td>\n",
       "      <td>Asian</td>\n",
       "      <td>55</td>\n",
       "      <td>1995-11-20</td>\n",
       "      <td>95409</td>\n",
       "      <td>0.00</td>\n",
       "      <td>United States</td>\n",
       "      <td>Phoenix</td>\n",
       "      <td>NaT</td>\n",
       "    </tr>\n",
       "    <tr>\n",
       "      <th>...</th>\n",
       "      <td>...</td>\n",
       "      <td>...</td>\n",
       "      <td>...</td>\n",
       "      <td>...</td>\n",
       "      <td>...</td>\n",
       "      <td>...</td>\n",
       "      <td>...</td>\n",
       "      <td>...</td>\n",
       "      <td>...</td>\n",
       "      <td>...</td>\n",
       "      <td>...</td>\n",
       "      <td>...</td>\n",
       "      <td>...</td>\n",
       "      <td>...</td>\n",
       "    </tr>\n",
       "    <tr>\n",
       "      <th>995</th>\n",
       "      <td>E03094</td>\n",
       "      <td>Wesley Young</td>\n",
       "      <td>Sr. Analyst</td>\n",
       "      <td>Marketing</td>\n",
       "      <td>Speciality Products</td>\n",
       "      <td>Male</td>\n",
       "      <td>Caucasian</td>\n",
       "      <td>33</td>\n",
       "      <td>2016-09-18</td>\n",
       "      <td>98427</td>\n",
       "      <td>0.00</td>\n",
       "      <td>United States</td>\n",
       "      <td>Columbus</td>\n",
       "      <td>NaT</td>\n",
       "    </tr>\n",
       "    <tr>\n",
       "      <th>996</th>\n",
       "      <td>E01909</td>\n",
       "      <td>Lillian Khan</td>\n",
       "      <td>Analyst</td>\n",
       "      <td>Finance</td>\n",
       "      <td>Speciality Products</td>\n",
       "      <td>Female</td>\n",
       "      <td>Asian</td>\n",
       "      <td>44</td>\n",
       "      <td>2010-05-31</td>\n",
       "      <td>47387</td>\n",
       "      <td>0.00</td>\n",
       "      <td>China</td>\n",
       "      <td>Chengdu</td>\n",
       "      <td>2018-01-08</td>\n",
       "    </tr>\n",
       "    <tr>\n",
       "      <th>997</th>\n",
       "      <td>E04398</td>\n",
       "      <td>Oliver Yang</td>\n",
       "      <td>Director</td>\n",
       "      <td>Marketing</td>\n",
       "      <td>Speciality Products</td>\n",
       "      <td>Male</td>\n",
       "      <td>Asian</td>\n",
       "      <td>31</td>\n",
       "      <td>2019-06-10</td>\n",
       "      <td>176710</td>\n",
       "      <td>0.15</td>\n",
       "      <td>United States</td>\n",
       "      <td>Miami</td>\n",
       "      <td>NaT</td>\n",
       "    </tr>\n",
       "    <tr>\n",
       "      <th>998</th>\n",
       "      <td>E02521</td>\n",
       "      <td>Lily Nguyen</td>\n",
       "      <td>Sr. Analyst</td>\n",
       "      <td>Finance</td>\n",
       "      <td>Speciality Products</td>\n",
       "      <td>Female</td>\n",
       "      <td>Asian</td>\n",
       "      <td>33</td>\n",
       "      <td>2012-01-28</td>\n",
       "      <td>95960</td>\n",
       "      <td>0.00</td>\n",
       "      <td>China</td>\n",
       "      <td>Chengdu</td>\n",
       "      <td>NaT</td>\n",
       "    </tr>\n",
       "    <tr>\n",
       "      <th>999</th>\n",
       "      <td>E03545</td>\n",
       "      <td>Sofia Cheng</td>\n",
       "      <td>Vice President</td>\n",
       "      <td>Accounting</td>\n",
       "      <td>Corporate</td>\n",
       "      <td>Female</td>\n",
       "      <td>Asian</td>\n",
       "      <td>63</td>\n",
       "      <td>2020-07-26</td>\n",
       "      <td>216195</td>\n",
       "      <td>0.31</td>\n",
       "      <td>United States</td>\n",
       "      <td>Miami</td>\n",
       "      <td>NaT</td>\n",
       "    </tr>\n",
       "  </tbody>\n",
       "</table>\n",
       "<p>1000 rows × 14 columns</p>\n",
       "</div>"
      ],
      "text/plain": [
       "       EEID        Full Name                 Job Title  Department  \\\n",
       "0    E02387      Emily Davis                Sr. Manger          IT   \n",
       "1    E04105    Theodore Dinh       Technical Architect          IT   \n",
       "2    E02572     Luna Sanders                  Director     Finance   \n",
       "3    E02832  Penelope Jordan  Computer Systems Manager          IT   \n",
       "4    E01639        Austin Vo               Sr. Analyst     Finance   \n",
       "..      ...              ...                       ...         ...   \n",
       "995  E03094     Wesley Young               Sr. Analyst   Marketing   \n",
       "996  E01909     Lillian Khan                   Analyst     Finance   \n",
       "997  E04398      Oliver Yang                  Director   Marketing   \n",
       "998  E02521      Lily Nguyen               Sr. Analyst     Finance   \n",
       "999  E03545      Sofia Cheng            Vice President  Accounting   \n",
       "\n",
       "              Business Unit  Gender  Ethnicity  Age  Hire Date  Annual Salary  \\\n",
       "0    Research & Development  Female      Black   55 2016-04-08         141604   \n",
       "1             Manufacturing    Male      Asian   59 1997-11-29          99975   \n",
       "2       Speciality Products  Female  Caucasian   50 2006-10-26         163099   \n",
       "3             Manufacturing  Female  Caucasian   26 2019-09-27          84913   \n",
       "4             Manufacturing    Male      Asian   55 1995-11-20          95409   \n",
       "..                      ...     ...        ...  ...        ...            ...   \n",
       "995     Speciality Products    Male  Caucasian   33 2016-09-18          98427   \n",
       "996     Speciality Products  Female      Asian   44 2010-05-31          47387   \n",
       "997     Speciality Products    Male      Asian   31 2019-06-10         176710   \n",
       "998     Speciality Products  Female      Asian   33 2012-01-28          95960   \n",
       "999               Corporate  Female      Asian   63 2020-07-26         216195   \n",
       "\n",
       "     Bonus %        Country       City  Exit Date  \n",
       "0       0.15  United States    Seattle 2021-10-16  \n",
       "1       0.00          China  Chongqing        NaT  \n",
       "2       0.20  United States    Chicago        NaT  \n",
       "3       0.07  United States    Chicago        NaT  \n",
       "4       0.00  United States    Phoenix        NaT  \n",
       "..       ...            ...        ...        ...  \n",
       "995     0.00  United States   Columbus        NaT  \n",
       "996     0.00          China    Chengdu 2018-01-08  \n",
       "997     0.15  United States      Miami        NaT  \n",
       "998     0.00          China    Chengdu        NaT  \n",
       "999     0.31  United States      Miami        NaT  \n",
       "\n",
       "[1000 rows x 14 columns]"
      ]
     },
     "execution_count": 4,
     "metadata": {},
     "output_type": "execute_result"
    }
   ],
   "source": [
    "s = pd.read_excel(\"ESD.xlsx\")\n",
    "s\n",
    "df = pd.DataFrame(s)\n",
    "df"
   ]
  },
  {
   "cell_type": "code",
   "execution_count": 15,
   "metadata": {},
   "outputs": [
    {
     "data": {
      "image/png": "[encoded data removed]",
      "text/plain": [
       "<Figure size 640x480 with 1 Axes>"
      ]
     },
     "metadata": {},
     "output_type": "display_data"
    }
   ],
   "source": [
    "a = [34,67,54,88,78]\n",
    "b = [48,33,53,66,77]\n",
    "\n",
    "plt.pie(a, labels=b)\n",
    "plt.title(\"Create a Pie Chart\")\n",
    "plt.show()"
   ]
  },
  {
   "cell_type": "code",
   "execution_count": 29,
   "metadata": {},
   "outputs": [
    {
     "name": "stdout",
     "output_type": "stream",
     "text": [
      "46.25\n",
      "[ 80  72  99 105]\n"
     ]
    }
   ],
   "source": [
    "a = np.array([20,40,55,70])\n",
    "b = np.array([60,32,44,35])\n",
    "print( np.mean(a))\n",
    "print(a+b)"
   ]
  },
  {
   "cell_type": "code",
   "execution_count": 24,
   "metadata": {},
   "outputs": [
    {
     "name": "stdout",
     "output_type": "stream",
     "text": [
      "[23 34 22]\n"
     ]
    }
   ],
   "source": [
    "s = np.array([23,34,22])\n",
    "print(s)"
   ]
  },
  {
   "cell_type": "code",
   "execution_count": null,
   "metadata": {},
   "outputs": [],
   "source": []
  }
 ],
 "metadata": {
  "kernelspec": {
   "display_name": "base",
   "language": "python",
   "name": "python3"
  },
  "language_info": {
   "codemirror_mode": {
    "name": "ipython",
    "version": 3
   },
   "file_extension": ".py",
   "mimetype": "text/x-python",
   "name": "python",
   "nbconvert_exporter": "python",
   "pygments_lexer": "ipython3",
   "version": "3.12.3"
  }
 },
 "nbformat": 4,
 "nbformat_minor": 2
}
