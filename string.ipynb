{
 "cells": [
  {
   "cell_type": "markdown",
   "metadata": {},
   "source": [
    "String Functions"
   ]
  },
  {
   "cell_type": "code",
   "execution_count": 2,
   "metadata": {},
   "outputs": [
    {
     "name": "stdout",
     "output_type": "stream",
     "text": [
      "hello world\n",
      "<class 'str'>\n"
     ]
    }
   ],
   "source": [
    "a = \"hello world\"\n",
    "print(a)\n",
    "print(type(a))"
   ]
  },
  {
   "cell_type": "code",
   "execution_count": 9,
   "metadata": {},
   "outputs": [
    {
     "name": "stdout",
     "output_type": "stream",
     "text": [
      "Harry Potter and the Goblet of Fire \n"
     ]
    }
   ],
   "source": [
    "a = \"Harry Potter and the Goblet of Fire \"\n",
    "print(a)"
   ]
  },
  {
   "cell_type": "code",
   "execution_count": 4,
   "metadata": {},
   "outputs": [
    {
     "name": "stdout",
     "output_type": "stream",
     "text": [
      "36\n"
     ]
    }
   ],
   "source": [
    "#to find the length of the string\n",
    "print(len(a))"
   ]
  },
  {
   "cell_type": "code",
   "execution_count": 3,
   "metadata": {},
   "outputs": [
    {
     "name": "stdout",
     "output_type": "stream",
     "text": [
      "1\n"
     ]
    }
   ],
   "source": [
    "# 2:- to find the number of times a character is occuring\n",
    "print(a.count(\"h\"))"
   ]
  },
  {
   "cell_type": "code",
   "execution_count": 5,
   "metadata": {},
   "outputs": [
    {
     "name": "stdout",
     "output_type": "stream",
     "text": [
      "HARRY POTTER AND THE GOBLET OF FIRE \n"
     ]
    }
   ],
   "source": [
    "# 3:- to convert each letter into upper case\n",
    "print(a.upper())"
   ]
  },
  {
   "cell_type": "code",
   "execution_count": 6,
   "metadata": {},
   "outputs": [
    {
     "name": "stdout",
     "output_type": "stream",
     "text": [
      "harry potter and the goblet of fire \n"
     ]
    }
   ],
   "source": [
    "# 4:- to convert each letter into lower case\n",
    "print(a.lower())"
   ]
  },
  {
   "cell_type": "code",
   "execution_count": 11,
   "metadata": {},
   "outputs": [
    {
     "name": "stdout",
     "output_type": "stream",
     "text": [
      "7\n"
     ]
    }
   ],
   "source": [
    "#5:- to find the  index of any character\n",
    "print(a.index(\"o\", )) "
   ]
  },
  {
   "cell_type": "code",
   "execution_count": 16,
   "metadata": {},
   "outputs": [
    {
     "name": "stdout",
     "output_type": "stream",
     "text": [
      "Harry potter and the goblet of fire \n"
     ]
    }
   ],
   "source": [
    "#6:- to convert the first letter to capitalize\n",
    "print(a.capitalize())"
   ]
  },
  {
   "cell_type": "code",
   "execution_count": 10,
   "metadata": {},
   "outputs": [
    {
     "name": "stdout",
     "output_type": "stream",
     "text": [
      "harry potter and the goblet of fire \n"
     ]
    }
   ],
   "source": [
    "#7:- to convert a string into lower case\n",
    "print(a.casefold())"
   ]
  },
  {
   "cell_type": "code",
   "execution_count": 11,
   "metadata": {},
   "outputs": [
    {
     "name": "stdout",
     "output_type": "stream",
     "text": [
      "22\n"
     ]
    }
   ],
   "source": [
    "#8:- to find the index number of a character\n",
    "print(a.find(\"o\",12,40))"
   ]
  },
  {
   "cell_type": "code",
   "execution_count": 15,
   "metadata": {},
   "outputs": [
    {
     "name": "stdout",
     "output_type": "stream",
     "text": [
      "('my name is ', 'gulam')\n"
     ]
    }
   ],
   "source": [
    "#9:- to write variables inside a string 👺👺not complete\n",
    "name = \"gulam\"\n",
    "b = \"my name is \", name\n",
    "print(b)"
   ]
  },
  {
   "cell_type": "code",
   "execution_count": 18,
   "metadata": {},
   "outputs": [
    {
     "name": "stdout",
     "output_type": "stream",
     "text": [
      "*******gulam********\n"
     ]
    }
   ],
   "source": [
    "#10:- it fills the given characters and centralizes a string\n",
    "print(name.center(20, \"*\" ))"
   ]
  },
  {
   "cell_type": "markdown",
   "metadata": {},
   "source": [
    "😴😴"
   ]
  },
  {
   "cell_type": "code",
   "execution_count": 4,
   "metadata": {},
   "outputs": [],
   "source": [
    "a = \"hello\"\n",
    "b = \"Hello123\"\n",
    "c = \"123456\"\n",
    "d = \"HELLO\"\n",
    "e = \" \"\n",
    "f = \"Hello 123\"\n",
    "g = \"1.234\""
   ]
  },
  {
   "cell_type": "code",
   "execution_count": 5,
   "metadata": {},
   "outputs": [
    {
     "name": "stdout",
     "output_type": "stream",
     "text": [
      "hello True\n",
      "Hello123 True\n",
      "123456 True\n",
      "HELLO True\n",
      "  False\n",
      "Hello 123 False\n",
      "1.234 False\n"
     ]
    }
   ],
   "source": [
    "# 11:- isalnum - returns True if all characters in the string are alphanumeric\n",
    "print(a,a.isalnum())\n",
    "print(b, b.isalnum())\n",
    "print(c,c.isalnum())\n",
    "print(d,d.isalnum())\n",
    "print(e,e.isalnum())\n",
    "print(f,f.isalnum())\n",
    "print(g,g.isalnum())"
   ]
  },
  {
   "cell_type": "code",
   "execution_count": 13,
   "metadata": {},
   "outputs": [
    {
     "name": "stdout",
     "output_type": "stream",
     "text": [
      "hello True\n",
      "Hello123 False\n",
      "123456 False\n",
      "HELLO True\n",
      "  False\n",
      "Hello 123 False\n",
      "1.234 False\n"
     ]
    }
   ],
   "source": [
    "# 12:- isalpha - returns True if all characters in the string are in the alphabet\n",
    "print(a,a.isalpha())\n",
    "print(b,b.isalpha())\n",
    "print(c,c.isalpha())\n",
    "print(d,d.isalpha())\n",
    "print(e,e.isalpha())\n",
    "print(f,f.isalpha())\n",
    "print(g,g.isalpha())"
   ]
  },
  {
   "cell_type": "code",
   "execution_count": 20,
   "metadata": {},
   "outputs": [
    {
     "name": "stdout",
     "output_type": "stream",
     "text": [
      "hello False\n",
      "Hello123 False\n",
      "123456 True\n",
      "HELLO False\n",
      "  False\n",
      "Hello 123 False\n",
      "1.234 False\n"
     ]
    }
   ],
   "source": [
    "# 13:- isdecimal - returns True if all characters in the string are decimals\n",
    "print(a,a.isdecimal())\n",
    "print(b,b.isdecimal())\n",
    "print(c,c.isdecimal())\n",
    "print(d,d.isdecimal())\n",
    "print(e,e.isdecimal())\n",
    "print(f,f.isdecimal())\n",
    "print(g,g.isdecimal())"
   ]
  },
  {
   "cell_type": "code",
   "execution_count": 26,
   "metadata": {},
   "outputs": [],
   "source": [
    "a = \"hello\"\n",
    "b = \"Hello123\"\n",
    "c = \"123456\"\n",
    "d = \"HELLO\"\n",
    "e = \" \"\n",
    "f = \"Hello 123\"\n",
    "g = \"1.234\""
   ]
  },
  {
   "cell_type": "code",
   "execution_count": 30,
   "metadata": {},
   "outputs": [
    {
     "name": "stdout",
     "output_type": "stream",
     "text": [
      "hello False\n",
      "Hello123 False\n",
      "123456 True\n",
      "HELLO False\n",
      "  False\n",
      "Hello 123 False\n",
      "1.234 False\n"
     ]
    }
   ],
   "source": [
    "# 14:- isdigit - returns True if all characters in the string are digits\n",
    "print(a,a.isdigit())\n",
    "print(b,b.isdigit())\n",
    "print(c,c.isdigit())\n",
    "print(d,d.isdigit())\n",
    "print(e,e.isdigit())\n",
    "print(f,f.isdigit())\n",
    "print(g,g.isdigit())"
   ]
  },
  {
   "cell_type": "code",
   "execution_count": 31,
   "metadata": {},
   "outputs": [
    {
     "name": "stdout",
     "output_type": "stream",
     "text": [
      "hello False\n"
     ]
    }
   ],
   "source": [
    "# 15:- isnumeric - returns True if all characters in the string are numeric\n",
    "print(a,a.isnumeric())"
   ]
  },
  {
   "cell_type": "code",
   "execution_count": null,
   "metadata": {},
   "outputs": [],
   "source": [
    "# 16:- islower - converts a string into lower case"
   ]
  },
  {
   "cell_type": "code",
   "execution_count": null,
   "metadata": {},
   "outputs": [],
   "source": [
    "# 17:- issupper - returns True if all characters in the string are upper case"
   ]
  },
  {
   "cell_type": "code",
   "execution_count": null,
   "metadata": {},
   "outputs": [],
   "source": [
    "# 18:- isspace - returns True if all character in the string are whitespaces"
   ]
  },
  {
   "cell_type": "code",
   "execution_count": null,
   "metadata": {},
   "outputs": [],
   "source": [
    "# 19:- istitle - returns True if the string follows the rules of a title"
   ]
  }
 ],
 "metadata": {
  "kernelspec": {
   "display_name": "base",
   "language": "python",
   "name": "python3"
  },
  "language_info": {
   "codemirror_mode": {
    "name": "ipython",
    "version": 3
   },
   "file_extension": ".py",
   "mimetype": "text/x-python",
   "name": "python",
   "nbconvert_exporter": "python",
   "pygments_lexer": "ipython3",
   "version": "3.12.3"
  }
 },
 "nbformat": 4,
 "nbformat_minor": 2
}
