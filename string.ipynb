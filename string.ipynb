{
 "cells": [
  {
   "cell_type": "markdown",
   "metadata": {},
   "source": [
    "String Functions"
   ]
  },
  {
   "cell_type": "code",
   "execution_count": 2,
   "metadata": {},
   "outputs": [
    {
     "name": "stdout",
     "output_type": "stream",
     "text": [
      "hello world\n",
      "<class 'str'>\n"
     ]
    }
   ],
   "source": [
    "a = \"hello world\"\n",
    "print(a)\n",
    "print(type(a))"
   ]
  },
  {
   "cell_type": "code",
   "execution_count": 9,
   "metadata": {},
   "outputs": [
    {
     "name": "stdout",
     "output_type": "stream",
     "text": [
      "Harry Potter and the Goblet of Fire \n"
     ]
    }
   ],
   "source": [
    "a = \"Harry Potter and the Goblet of Fire \"\n",
    "print(a)"
   ]
  },
  {
   "cell_type": "code",
   "execution_count": 4,
   "metadata": {},
   "outputs": [
    {
     "name": "stdout",
     "output_type": "stream",
     "text": [
      "36\n"
     ]
    }
   ],
   "source": [
    "#to find the length of the string\n",
    "print(len(a))"
   ]
  },
  {
   "cell_type": "code",
   "execution_count": 3,
   "metadata": {},
   "outputs": [
    {
     "name": "stdout",
     "output_type": "stream",
     "text": [
      "1\n"
     ]
    }
   ],
   "source": [
    "# 2:- to find the number of times a character is occuring\n",
    "print(a.count(\"h\"))"
   ]
  },
  {
   "cell_type": "code",
   "execution_count": 5,
   "metadata": {},
   "outputs": [
    {
     "name": "stdout",
     "output_type": "stream",
     "text": [
      "HARRY POTTER AND THE GOBLET OF FIRE \n"
     ]
    }
   ],
   "source": [
    "# 3:- to convert each letter into upper case\n",
    "print(a.upper())"
   ]
  },
  {
   "cell_type": "code",
   "execution_count": 6,
   "metadata": {},
   "outputs": [
    {
     "name": "stdout",
     "output_type": "stream",
     "text": [
      "harry potter and the goblet of fire \n"
     ]
    }
   ],
   "source": [
    "# 4:- to convert each letter into lower case\n",
    "print(a.lower())"
   ]
  },
  {
   "cell_type": "code",
   "execution_count": 11,
   "metadata": {},
   "outputs": [
    {
     "name": "stdout",
     "output_type": "stream",
     "text": [
      "7\n"
     ]
    }
   ],
   "source": [
    "#5:- to find the  index of any character\n",
    "print(a.index(\"o\", )) "
   ]
  },
  {
   "cell_type": "code",
   "execution_count": 16,
   "metadata": {},
   "outputs": [
    {
     "name": "stdout",
     "output_type": "stream",
     "text": [
      "Harry potter and the goblet of fire \n"
     ]
    }
   ],
   "source": [
    "#6:- to convert the first letter to capitalize\n",
    "print(a.capitalize())"
   ]
  },
  {
   "cell_type": "code",
   "execution_count": 10,
   "metadata": {},
   "outputs": [
    {
     "name": "stdout",
     "output_type": "stream",
     "text": [
      "harry potter and the goblet of fire \n"
     ]
    }
   ],
   "source": [
    "#7:- to convert a string into lower case\n",
    "print(a.casefold())"
   ]
  },
  {
   "cell_type": "code",
   "execution_count": 11,
   "metadata": {},
   "outputs": [
    {
     "name": "stdout",
     "output_type": "stream",
     "text": [
      "22\n"
     ]
    }
   ],
   "source": [
    "#8:- to find the index number of a character\n",
    "print(a.find(\"o\",12,40))"
   ]
  },
  {
   "cell_type": "code",
   "execution_count": 15,
   "metadata": {},
   "outputs": [
    {
     "name": "stdout",
     "output_type": "stream",
     "text": [
      "('my name is ', 'gulam')\n"
     ]
    }
   ],
   "source": [
    "#9:- to write variables inside a string 👺👺not complete\n",
    "name = \"gulam\"\n",
    "b = \"my name is \", name\n",
    "print(b)"
   ]
  },
  {
   "cell_type": "code",
   "execution_count": 18,
   "metadata": {},
   "outputs": [
    {
     "name": "stdout",
     "output_type": "stream",
     "text": [
      "*******gulam********\n"
     ]
    }
   ],
   "source": [
    "#10:- it fills the given characters and centralizes a string\n",
    "print(name.center(20, \"*\" ))"
   ]
  },
  {
   "cell_type": "markdown",
   "metadata": {},
   "source": [
    "😴😴"
   ]
  },
  {
   "cell_type": "code",
   "execution_count": 4,
   "metadata": {},
   "outputs": [],
   "source": [
    "a = \"hello\"\n",
    "b = \"Hello123\"\n",
    "c = \"123456\"\n",
    "d = \"HELLO\"\n",
    "e = \" \"\n",
    "f = \"Hello 123\"\n",
    "g = \"1.234\""
   ]
  },
  {
   "cell_type": "code",
   "execution_count": 5,
   "metadata": {},
   "outputs": [
    {
     "name": "stdout",
     "output_type": "stream",
     "text": [
      "hello True\n",
      "Hello123 True\n",
      "123456 True\n",
      "HELLO True\n",
      "  False\n",
      "Hello 123 False\n",
      "1.234 False\n"
     ]
    }
   ],
   "source": [
    "# 11:- isalnum - returns True if all characters in the string are alphanumeric\n",
    "print(a,a.isalnum())\n",
    "print(b, b.isalnum())\n",
    "print(c,c.isalnum())\n",
    "print(d,d.isalnum())\n",
    "print(e,e.isalnum())\n",
    "print(f,f.isalnum())\n",
    "print(g,g.isalnum())"
   ]
  },
  {
   "cell_type": "code",
   "execution_count": 13,
   "metadata": {},
   "outputs": [
    {
     "name": "stdout",
     "output_type": "stream",
     "text": [
      "hello True\n",
      "Hello123 False\n",
      "123456 False\n",
      "HELLO True\n",
      "  False\n",
      "Hello 123 False\n",
      "1.234 False\n"
     ]
    }
   ],
   "source": [
    "# 12:- isalpha - returns True if all characters in the string are in the alphabet\n",
    "print(a,a.isalpha())\n",
    "print(b,b.isalpha())\n",
    "print(c,c.isalpha())\n",
    "print(d,d.isalpha())\n",
    "print(e,e.isalpha())\n",
    "print(f,f.isalpha())\n",
    "print(g,g.isalpha())"
   ]
  },
  {
   "cell_type": "code",
   "execution_count": 20,
   "metadata": {},
   "outputs": [
    {
     "name": "stdout",
     "output_type": "stream",
     "text": [
      "hello False\n",
      "Hello123 False\n",
      "123456 True\n",
      "HELLO False\n",
      "  False\n",
      "Hello 123 False\n",
      "1.234 False\n"
     ]
    }
   ],
   "source": [
    "# 13:- isdecimal - returns True if all characters in the string are decimals\n",
    "print(a,a.isdecimal())\n",
    "print(b,b.isdecimal())\n",
    "print(c,c.isdecimal())\n",
    "print(d,d.isdecimal())\n",
    "print(e,e.isdecimal())\n",
    "print(f,f.isdecimal())\n",
    "print(g,g.isdecimal())"
   ]
  },
  {
   "cell_type": "code",
   "execution_count": 48,
   "metadata": {},
   "outputs": [],
   "source": [
    "a = \"hello\"\n",
    "b = \"Hello123\"\n",
    "c = \"123456\"\n",
    "d = \"HELLO\"\n",
    "e = \" \"\n",
    "f = \"Hello 123\"\n",
    "g = \"1.234\""
   ]
  },
  {
   "cell_type": "code",
   "execution_count": 3,
   "metadata": {},
   "outputs": [
    {
     "name": "stdout",
     "output_type": "stream",
     "text": [
      "hello False\n",
      "Hello123 False\n",
      "123456 True\n",
      "HELLO False\n",
      "  False\n",
      "Hello 123 False\n",
      "1.234 False\n"
     ]
    }
   ],
   "source": [
    "# 14:- isdigit - returns True if all characters in the string are digits\n",
    "print(a,a.isdigit())\n",
    "print(b,b.isdigit())\n",
    "print(c,c.isdigit())\n",
    "print(d,d.isdigit())\n",
    "print(e,e.isdigit())\n",
    "print(f,f.isdigit())\n",
    "print(g,g.isdigit())"
   ]
  },
  {
   "cell_type": "code",
   "execution_count": 9,
   "metadata": {},
   "outputs": [
    {
     "name": "stdout",
     "output_type": "stream",
     "text": [
      "hello False\n",
      "Hello123 False\n",
      "123456 True\n",
      "HELLO False\n",
      "  False\n",
      "Hello 123 False\n",
      "1.234 False\n"
     ]
    }
   ],
   "source": [
    "# 15:- isnumeric - returns True if all characters in the string are numeric\n",
    "print(a,a.isnumeric())\n",
    "print(b,b.isnumeric())\n",
    "print(c,c.isnumeric())\n",
    "print(d,d.isnumeric())\n",
    "print(e,e.isnumeric())\n",
    "print(f,f.isnumeric())\n",
    "print(g,g.isnumeric())"
   ]
  },
  {
   "cell_type": "code",
   "execution_count": 49,
   "metadata": {},
   "outputs": [
    {
     "name": "stdout",
     "output_type": "stream",
     "text": [
      "hello True\n",
      "Hello123 False\n",
      "123456 False\n",
      "HELLO False\n",
      "  False\n",
      "Hello 123 False\n",
      "1.234 False\n"
     ]
    }
   ],
   "source": [
    "# 16:- islower - check if the string is lower or not\n",
    "print(a,a.islower())\n",
    "print(b,b.islower())\n",
    "print(c,c.islower())\n",
    "print(d,d.islower())\n",
    "print(e,e.islower())\n",
    "print(f,f.islower())\n",
    "print(g,g.islower())"
   ]
  },
  {
   "cell_type": "code",
   "execution_count": 24,
   "metadata": {},
   "outputs": [
    {
     "name": "stdout",
     "output_type": "stream",
     "text": [
      "hello False\n",
      "Hello123 False\n",
      "123456 False\n",
      "HELLO True\n",
      "  False\n",
      "Hello 123 False\n",
      "1.234 False\n"
     ]
    }
   ],
   "source": [
    "# 17:- issupper - returns True if all characters in the string are upper \n",
    "print(a,a.isupper())\n",
    "print(b,b.isupper())\n",
    "print(c,c.isupper())\n",
    "print(d,d.isupper())\n",
    "print(e,e.isupper())\n",
    "print(f,f.isupper())\n",
    "print(g,g.isupper())"
   ]
  },
  {
   "cell_type": "code",
   "execution_count": 33,
   "metadata": {},
   "outputs": [
    {
     "name": "stdout",
     "output_type": "stream",
     "text": [
      "hello False\n",
      "Hello123 False\n",
      "123456 False\n",
      "HELLO False\n",
      "  True\n",
      "Hello 123 False\n",
      "1.234 False\n"
     ]
    }
   ],
   "source": [
    "# 18:- isspace - returns True if all character in the string are whitespaces\n",
    "print(a,a.isspace())\n",
    "print(b,b.isspace())\n",
    "print(c,c.isspace())\n",
    "print(d,d.isspace())\n",
    "print(e,e.isspace())\n",
    "print(f,f.isspace())\n",
    "print(g,g.isspace())"
   ]
  },
  {
   "cell_type": "code",
   "execution_count": 42,
   "metadata": {},
   "outputs": [
    {
     "name": "stdout",
     "output_type": "stream",
     "text": [
      "hello False\n",
      "Hello123 True\n",
      "123456 False\n",
      "HELLO False\n",
      "  False\n",
      "Hello 123 True\n",
      "1.234 False\n"
     ]
    }
   ],
   "source": [
    "# 19:- istitle - returns True if the string follows the rules of a title\n",
    "print(a,a.istitle())\n",
    "print(b,b.istitle())\n",
    "print(c,c.istitle())\n",
    "print(d,d.istitle())\n",
    "print(e,e.istitle())\n",
    "print(f,f.istitle())\n",
    "print(g,g.istitle())"
   ]
  },
  {
   "cell_type": "markdown",
   "metadata": {},
   "source": [
    "😒😴"
   ]
  },
  {
   "cell_type": "code",
   "execution_count": 55,
   "metadata": {},
   "outputs": [
    {
     "name": "stdout",
     "output_type": "stream",
     "text": [
      "False\n",
      "True\n"
     ]
    }
   ],
   "source": [
    "# 20:- endswith() - returns True if the string ends with the specified value\n",
    "a = \"Harry Potter\"\n",
    "print(a.endswith(\"e\"))\n",
    "print(a.endswith(\"o\",4,8))\n"
   ]
  },
  {
   "cell_type": "code",
   "execution_count": 60,
   "metadata": {},
   "outputs": [
    {
     "name": "stdout",
     "output_type": "stream",
     "text": [
      "False\n",
      "True\n"
     ]
    }
   ],
   "source": [
    "# 21:- startswith - returns True if the string starts with the specified value\n",
    "a = \"My name is Joseph\"\n",
    "print(a.startswith(\"n\"))\n",
    "print(a.startswith(\"J\",11))\n"
   ]
  },
  {
   "cell_type": "code",
   "execution_count": 62,
   "metadata": {},
   "outputs": [
    {
     "name": "stdout",
     "output_type": "stream",
     "text": [
      "hARRY pOTTER\n",
      "HARRY POTTER\n"
     ]
    }
   ],
   "source": [
    "# 22:- swapcase - swaps cases, lower case becomes upper case and vice varsa\n",
    "s = \"Harry Potter\"\n",
    "v = \"harry potter\"\n",
    "print(s.swapcase())\n",
    "print(v.swapcase())"
   ]
  },
  {
   "cell_type": "code",
   "execution_count": 73,
   "metadata": {},
   "outputs": [
    {
     "name": "stdout",
     "output_type": "stream",
     "text": [
      "    Harry Potter    \n",
      "Harry Potter\n",
      "*****Harry Potter.....\n",
      "Harry Potter.....\n"
     ]
    }
   ],
   "source": [
    "# 23:- strip - returns a trimmed version of the string\n",
    "a = \"    Harry Potter    \"\n",
    "b = \"*****Harry Potter.....\"\n",
    "print(a)\n",
    "print(a.strip())\n",
    "print(b)\n",
    "print(b.strip(\"*\",))"
   ]
  },
  {
   "cell_type": "code",
   "execution_count": 80,
   "metadata": {},
   "outputs": [
    {
     "name": "stdout",
     "output_type": "stream",
     "text": [
      "OOFD#BRB#OMW#TB\n",
      "['OOFD', 'BRB', 'OMW', 'TB']\n",
      "['Hello', ' my name is Joseph', ' i am 22 year old']\n"
     ]
    }
   ],
   "source": [
    "# 24:- split - splits the string of the specified separator, and returns a list\n",
    "a = \"OOFD#BRB#OMW#TB\"\n",
    "b = \"Hello. my name is Joseph. i am 22 year old\"\n",
    "print(a)\n",
    "print(a.split(\"#\"))\n",
    "print(b.split(\".\"))"
   ]
  },
  {
   "cell_type": "code",
   "execution_count": 86,
   "metadata": {},
   "outputs": [
    {
     "name": "stdout",
     "output_type": "stream",
     "text": [
      "Harry Potter******** This is my fav movie\n"
     ]
    }
   ],
   "source": [
    "# 25:- ljust - returns a left justified version of the string\n",
    "a = \"Harry Potter\"\n",
    "x = a.ljust(20,\"*\")\n",
    "print(x,\"This is my fav movie\")"
   ]
  },
  {
   "cell_type": "code",
   "execution_count": 91,
   "metadata": {},
   "outputs": [
    {
     "name": "stdout",
     "output_type": "stream",
     "text": [
      "----------------------------Harry Potter This is my fav movie\n"
     ]
    }
   ],
   "source": [
    "# 26:- rjust - returns a right justified version of the string\n",
    "a = \"Harry Potter\"\n",
    "x = a.rjust(40,\"-\")\n",
    "print(x, \"This is my fav movie\")"
   ]
  },
  {
   "cell_type": "code",
   "execution_count": 98,
   "metadata": {},
   "outputs": [
    {
     "name": "stdout",
     "output_type": "stream",
     "text": [
      "My name is Joseph, Joseph love play cricket\n",
      "My name is Gulam, Gulam love play cricket\n"
     ]
    }
   ],
   "source": [
    "# 27:- replace - returns a string where a specefied vlaue is replaced with 0 specified value\n",
    "a = \"My name is Joseph, Joseph love play cricket\"\n",
    "print(a)\n",
    "print(a.replace(\"Joseph\",\"Gulam\"))\n"
   ]
  },
  {
   "cell_type": "code",
   "execution_count": 102,
   "metadata": {},
   "outputs": [
    {
     "name": "stdout",
     "output_type": "stream",
     "text": [
      "0\n"
     ]
    }
   ],
   "source": [
    "\n",
    "# 28:- rindex - searches the string for a specified value and returns the lost position of where it was found\n",
    "\n",
    "a = \"Harry Potter and The Prisoner of Azkaban\"\n",
    "print(a.rindex(\"Harry\"))\n",
    "\n"
   ]
  },
  {
   "cell_type": "code",
   "execution_count": 106,
   "metadata": {},
   "outputs": [
    {
     "name": "stdout",
     "output_type": "stream",
     "text": [
      "11\n"
     ]
    }
   ],
   "source": [
    "# 29:- rfind - searches the string for a specified vlaue and returns the last position of where it was found\n",
    "a = \"Harry Potter and the Goblet Fire\"\n",
    "print(a.rfind(\"r\", 4,12))"
   ]
  },
  {
   "cell_type": "markdown",
   "metadata": {},
   "source": [
    "Slicing in String🤗🤗"
   ]
  },
  {
   "cell_type": "code",
   "execution_count": 127,
   "metadata": {},
   "outputs": [
    {
     "name": "stdout",
     "output_type": "stream",
     "text": [
      "Harry Potter and the Goblet Fire\n",
      "02468\n",
      "01234\n",
      "6789\n",
      "Harry \n",
      "the\n",
      "Harry\n",
      "Fire\n"
     ]
    }
   ],
   "source": [
    "a = \"Harry Potter and the Goblet Fire\"\n",
    "b = \"0123456789\"\n",
    "\n",
    "print(a)\n",
    "print(b[::2])\n",
    "print(b[0:5])\n",
    "print(b[6:12])\n",
    "print(a[0:6])\n",
    "print(a[17:20])\n",
    "print(a[:5])\n",
    "print(a[-4:])"
   ]
  },
  {
   "cell_type": "markdown",
   "metadata": {},
   "source": [
    "Problem Solving😴🥱🫤"
   ]
  },
  {
   "cell_type": "code",
   "execution_count": 2,
   "metadata": {},
   "outputs": [
    {
     "name": "stdout",
     "output_type": "stream",
     "text": [
      "['OOTD', 'YOLO', 'ASAP', 'BRB', 'GTG', 'OTW']\n"
     ]
    }
   ],
   "source": [
    "# A = \"OOTD.YOLO.ASAP.BRB.GTG.OTW\"\n",
    "#1- write a program to separate the following string into coma(,) separated values\n",
    "a = \"OOTD.YOLO.ASAP.BRB.GTG.OTW\"\n",
    "b = a.split(\".\")\n",
    "print(b)\n",
    "\n"
   ]
  },
  {
   "cell_type": "code",
   "execution_count": null,
   "metadata": {},
   "outputs": [
    {
     "name": "stdout",
     "output_type": "stream",
     "text": [
      "['G', 'a', 'l', 'm', 'u']\n"
     ]
    }
   ],
   "source": [
    "#2:- write a program to sort strings alphabetically in python\n",
    "a = input(\"Enter anything here:\")\n",
    "b = sorted(a)\n",
    "print(b)"
   ]
  },
  {
   "cell_type": "code",
   "execution_count": 9,
   "metadata": {},
   "outputs": [
    {
     "name": "stdout",
     "output_type": "stream",
     "text": [
      "Hllo\n"
     ]
    }
   ],
   "source": [
    "#3:- write a program to remove a given character from a string\n",
    "a = \"Hello\"\n",
    "b = a.replace(\"e\",\"\")\n",
    "print(b)\n"
   ]
  },
  {
   "cell_type": "code",
   "execution_count": 10,
   "metadata": {},
   "outputs": [
    {
     "name": "stdout",
     "output_type": "stream",
     "text": [
      "FRIENDS\n"
     ]
    }
   ],
   "source": [
    "#4:- write a program to remove dot(.) from the following string\n",
    "z = \"F.R.I.E.N.D.S.\"\n",
    "a = z.replace(\".\",\"\")\n",
    "print(a)"
   ]
  },
  {
   "cell_type": "code",
   "execution_count": 17,
   "metadata": {},
   "outputs": [
    {
     "name": "stdout",
     "output_type": "stream",
     "text": [
      "The number of times substring sea is occuring is:- 2\n"
     ]
    }
   ],
   "source": [
    "#5:- write a program to check the number of occurrence of a substring in a string\n",
    "a = \"she sells seashells on the sea shore\"\n",
    "v = a.count(\"sea\")\n",
    "print(\"The number of times substring sea is occuring is:-\",v)"
   ]
  },
  {
   "cell_type": "markdown",
   "metadata": {},
   "source": [
    "Problem Solving😒😴"
   ]
  },
  {
   "cell_type": "code",
   "execution_count": 19,
   "metadata": {},
   "outputs": [
    {
     "name": "stdout",
     "output_type": "stream",
     "text": [
      "malug\n"
     ]
    }
   ],
   "source": [
    "#take an input from a user as a string then, reverse it\n",
    "a = input(\"Enter anything here:\")\n",
    "print(a[::-1])"
   ]
  },
  {
   "cell_type": "code",
   "execution_count": 22,
   "metadata": {},
   "outputs": [
    {
     "name": "stdout",
     "output_type": "stream",
     "text": [
      "False\n"
     ]
    }
   ],
   "source": [
    "#write a program to check if a string contains only digits\n",
    "a = input(\"Enter anything here\")\n",
    "b = (a.isdigit())\n",
    "print(b)"
   ]
  },
  {
   "cell_type": "code",
   "execution_count": 28,
   "metadata": {},
   "outputs": [
    {
     "name": "stdout",
     "output_type": "stream",
     "text": [
      "It is not polindrome\n"
     ]
    }
   ],
   "source": [
    "#write a program to check if a string is polindrome\n",
    "a = input(\"Enter anything here\")\n",
    "rev = a[::-1]\n",
    "\n",
    "if a == rev:\n",
    "    print(\"It is polindrome\")\n",
    "else:\n",
    "    print(\"It is not polindrome\")"
   ]
  },
  {
   "cell_type": "code",
   "execution_count": 32,
   "metadata": {},
   "outputs": [
    {
     "name": "stdout",
     "output_type": "stream",
     "text": [
      "The number of vowels in the following string are 2\n"
     ]
    }
   ],
   "source": [
    "#write a program to find number of vowels in a string\n",
    "a = input(\"Enter anything here\")\n",
    "vowels = 0\n",
    "for i in a:\n",
    "    if i == \"a\" or i == \"e\" or i == \"i\" or i == \"o\" or i == \"u\" or i == \"A\" or i == \"E\" or i == \"I\" or i == \"O\" or i == \"U\":\n",
    "        vowels +=1\n",
    "print(\"The number of vowels in the following string are\", vowels)"
   ]
  },
  {
   "cell_type": "code",
   "execution_count": 4,
   "metadata": {},
   "outputs": [
    {
     "name": "stdout",
     "output_type": "stream",
     "text": [
      "False\n"
     ]
    }
   ],
   "source": [
    "#write a program to check if every word in a string begins with a capital letters\n",
    "a = input(\"Enter a word:-\")\n",
    "b = a.istitle()\n",
    "print(b)"
   ]
  },
  {
   "cell_type": "code",
   "execution_count": null,
   "metadata": {},
   "outputs": [],
   "source": []
  }
 ],
 "metadata": {
  "kernelspec": {
   "display_name": "base",
   "language": "python",
   "name": "python3"
  },
  "language_info": {
   "codemirror_mode": {
    "name": "ipython",
    "version": 3
   },
   "file_extension": ".py",
   "mimetype": "text/x-python",
   "name": "python",
   "nbconvert_exporter": "python",
   "pygments_lexer": "ipython3",
   "version": "3.12.3"
  }
 },
 "nbformat": 4,
 "nbformat_minor": 2
}
