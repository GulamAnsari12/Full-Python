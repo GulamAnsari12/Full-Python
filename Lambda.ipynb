{
 "cells": [
  {
   "cell_type": "markdown",
   "metadata": {},
   "source": [
    "Lambda😒😴😴"
   ]
  },
  {
   "cell_type": "code",
   "execution_count": 2,
   "metadata": {},
   "outputs": [
    {
     "name": "stdout",
     "output_type": "stream",
     "text": [
      "25\n",
      "12.5\n",
      "<class 'function'>\n"
     ]
    }
   ],
   "source": [
    "a = lambda b : b*5\n",
    "print(a(5))\n",
    "print(a(2.5))\n",
    "print(type(a))"
   ]
  },
  {
   "cell_type": "markdown",
   "metadata": {},
   "source": [
    "Local and Global Variables😒😴😒"
   ]
  },
  {
   "cell_type": "code",
   "execution_count": 2,
   "metadata": {},
   "outputs": [
    {
     "name": "stdout",
     "output_type": "stream",
     "text": [
      "First Variable x 20\n",
      "25\n",
      "20\n"
     ]
    }
   ],
   "source": [
    "#Local Variables\n",
    "x = 20\n",
    "print(\"First Variable x\", x)\n",
    "def hello():\n",
    "    x = 25\n",
    "    return(x)\n",
    "print(hello())\n",
    "\n",
    "print(x)"
   ]
  },
  {
   "cell_type": "code",
   "execution_count": 6,
   "metadata": {},
   "outputs": [
    {
     "name": "stdout",
     "output_type": "stream",
     "text": [
      "First Variables x : 20\n",
      "30\n",
      "30\n"
     ]
    }
   ],
   "source": [
    "#Global Variables\n",
    "x = 20\n",
    "print(\"First Variables x :\",x)\n",
    "def hello ():\n",
    "    global x\n",
    "    x = 30\n",
    "    return(x)\n",
    "print(hello())\n",
    "\n",
    "print(x)"
   ]
  },
  {
   "cell_type": "code",
   "execution_count": null,
   "metadata": {},
   "outputs": [],
   "source": []
  }
 ],
 "metadata": {
  "kernelspec": {
   "display_name": "base",
   "language": "python",
   "name": "python3"
  },
  "language_info": {
   "codemirror_mode": {
    "name": "ipython",
    "version": 3
   },
   "file_extension": ".py",
   "mimetype": "text/x-python",
   "name": "python",
   "nbconvert_exporter": "python",
   "pygments_lexer": "ipython3",
   "version": "3.12.3"
  }
 },
 "nbformat": 4,
 "nbformat_minor": 2
}
