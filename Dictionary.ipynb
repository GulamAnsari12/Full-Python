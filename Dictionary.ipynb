{
 "cells": [
  {
   "cell_type": "code",
   "execution_count": 4,
   "metadata": {},
   "outputs": [
    {
     "name": "stdout",
     "output_type": "stream",
     "text": [
      "{'name': 'John', 'age': 23, 'gender': 'Male'}\n",
      "23\n",
      "Male\n"
     ]
    }
   ],
   "source": [
    "employee_data = {\"name\":\"John\", \"age\":23, \"gender\":\"Male\"}\n",
    "print(employee_data)\n",
    "print(employee_data[\"age\"])\n",
    "print(employee_data[\"gender\"])\n"
   ]
  },
  {
   "cell_type": "markdown",
   "metadata": {},
   "source": [
    "Iteration in Dictionary😍😒🤗"
   ]
  },
  {
   "cell_type": "code",
   "execution_count": 18,
   "metadata": {},
   "outputs": [
    {
     "name": "stdout",
     "output_type": "stream",
     "text": [
      "{'name': 'John', 'class': '6th', 'roll_no': 101}\n",
      "<class 'dict'>\n",
      "6th\n"
     ]
    }
   ],
   "source": [
    "#iteration in dictionary\n",
    "student = {\"name\":\"John\", \"class\":\"6th\", \"roll_no\":101}\n",
    "print(student)\n",
    "print(type(student))\n",
    "print(student[\"class\"])"
   ]
  },
  {
   "cell_type": "code",
   "execution_count": 8,
   "metadata": {},
   "outputs": [
    {
     "name": "stdout",
     "output_type": "stream",
     "text": [
      "name\n",
      "class\n",
      "roll_no\n"
     ]
    }
   ],
   "source": [
    "#printing all the key names one by one\n",
    "for i in student:\n",
    "    print(i)\n"
   ]
  },
  {
   "cell_type": "code",
   "execution_count": 19,
   "metadata": {},
   "outputs": [
    {
     "name": "stdout",
     "output_type": "stream",
     "text": [
      "John\n",
      "6th\n",
      "101\n"
     ]
    }
   ],
   "source": [
    "#printing all the value names one by one\n",
    "for x in student:\n",
    "    print(student[x])"
   ]
  },
  {
   "cell_type": "code",
   "execution_count": 22,
   "metadata": {},
   "outputs": [
    {
     "name": "stdout",
     "output_type": "stream",
     "text": [
      "name : John\n",
      "class : 6th\n",
      "roll_no : 101\n"
     ]
    }
   ],
   "source": [
    "#using item function\n",
    "for x,y in student.items():\n",
    "    print(x,\":\",y)"
   ]
  },
  {
   "cell_type": "code",
   "execution_count": 20,
   "metadata": {},
   "outputs": [
    {
     "name": "stdout",
     "output_type": "stream",
     "text": [
      "John\n",
      "6th\n",
      "101\n"
     ]
    }
   ],
   "source": [
    "#using value function for print value \n",
    "for c in student.values():\n",
    "    print(c)"
   ]
  },
  {
   "cell_type": "markdown",
   "metadata": {},
   "source": [
    "Dictionary Functions🤗😒😴"
   ]
  },
  {
   "cell_type": "code",
   "execution_count": 28,
   "metadata": {},
   "outputs": [],
   "source": [
    "student = {\"name\":\"John\",\"class\":\"6th\",\"roll_no\":\"1002\"}"
   ]
  },
  {
   "cell_type": "code",
   "execution_count": 33,
   "metadata": {},
   "outputs": [
    {
     "name": "stdout",
     "output_type": "stream",
     "text": [
      "John\n",
      "6th\n"
     ]
    }
   ],
   "source": [
    "#get\n",
    "x = student.get(\"name\")\n",
    "print(x)\n",
    "x = student.get(\"class\")\n",
    "print(x)"
   ]
  },
  {
   "cell_type": "code",
   "execution_count": 35,
   "metadata": {},
   "outputs": [
    {
     "name": "stdout",
     "output_type": "stream",
     "text": [
      "dict_items([('name', 'John'), ('class', '6th'), ('roll_no', '1002')])\n"
     ]
    }
   ],
   "source": [
    "#item\n",
    "a = student.items()\n",
    "print(a)"
   ]
  },
  {
   "cell_type": "code",
   "execution_count": 38,
   "metadata": {},
   "outputs": [
    {
     "name": "stdout",
     "output_type": "stream",
     "text": [
      "dict_keys(['name', 'class', 'roll_no'])\n"
     ]
    }
   ],
   "source": [
    "#keys for print only keys\n",
    "b = student.keys()\n",
    "print(b)"
   ]
  },
  {
   "cell_type": "code",
   "execution_count": 39,
   "metadata": {},
   "outputs": [
    {
     "name": "stdout",
     "output_type": "stream",
     "text": [
      "dict_values(['John', '6th', '1002'])\n"
     ]
    }
   ],
   "source": [
    "#values for print only value\n",
    "s = student.values()\n",
    "print(s)"
   ]
  },
  {
   "cell_type": "code",
   "execution_count": 40,
   "metadata": {},
   "outputs": [
    {
     "name": "stdout",
     "output_type": "stream",
     "text": [
      "{'name': 'John', 'class': '6th', 'roll_no': '1002'}\n"
     ]
    }
   ],
   "source": [
    "#copy\n",
    "a = student.copy()\n",
    "print(a)"
   ]
  },
  {
   "cell_type": "code",
   "execution_count": 2,
   "metadata": {},
   "outputs": [],
   "source": [
    "student = {\"name\":\"Ronaldo\",\"class\":\"12th\",\"roll_no\":123}\n"
   ]
  },
  {
   "cell_type": "code",
   "execution_count": 3,
   "metadata": {},
   "outputs": [
    {
     "name": "stdout",
     "output_type": "stream",
     "text": [
      "12th\n"
     ]
    }
   ],
   "source": [
    "#setdefault\n",
    "s = student.setdefault(\"class\",\"43th\")\n",
    "print(s)"
   ]
  },
  {
   "cell_type": "markdown",
   "metadata": {},
   "source": [
    "Nested Dictionary😒😴"
   ]
  },
  {
   "cell_type": "code",
   "execution_count": 16,
   "metadata": {},
   "outputs": [
    {
     "name": "stdout",
     "output_type": "stream",
     "text": [
      "{1: {'Name': 'John', 'Age': 23, 'Gender': 'male'}, 2: {'Name': 'Lisa', 'Age': 22, 'Gender': 'Female'}, 3: {'Name': 'Peter', 'Age': 20, 'Gender': 'Male'}}\n",
      "{'Name': 'Lisa', 'Age': 22, 'Gender': 'Female'}\n",
      "22\n",
      "Peter\n"
     ]
    }
   ],
   "source": [
    "employees = {1:{\"Name\":\"John\",\"Age\":23,\"Gender\":\"male\"},\n",
    "             2:{\"Name\":\"Lisa\", \"Age\":22,\"Gender\":\"Female\"},\n",
    "             3:{\"Name\":\"Peter\", \"Age\":20, \"Gender\":\"Male\"}}\n",
    "print(employees)\n",
    "print(employees[2])\n",
    "print(employees[2][\"Age\"])\n",
    "print(employees[3][\"Name\"])"
   ]
  },
  {
   "cell_type": "markdown",
   "metadata": {},
   "source": [
    "Problem Solving :- 1 😴😒"
   ]
  },
  {
   "cell_type": "code",
   "execution_count": 18,
   "metadata": {},
   "outputs": [
    {
     "name": "stdout",
     "output_type": "stream",
     "text": [
      "[6, 12, 23, 45, 91]\n"
     ]
    }
   ],
   "source": [
    "#write a program to sort a dictionary by value\n",
    "a =   {\"a\":12, \"b\":23, \"c\":6, \"d\":91, \"e\":45}\n",
    "a = sorted(a.values())\n",
    "print(a)"
   ]
  },
  {
   "cell_type": "code",
   "execution_count": 19,
   "metadata": {},
   "outputs": [
    {
     "name": "stdout",
     "output_type": "stream",
     "text": [
      "{1: 1, 2: 4, 3: 9, 4: 16, 5: 25, 6: 36, 7: 49, 8: 64, 9: 81, 10: 100, 11: 121, 12: 144, 13: 169, 14: 196, 15: 225}\n"
     ]
    }
   ],
   "source": [
    "#write a python script to print a dictionary where the keys are numbers between 1 and 15 and the values are square of keys\n",
    "a = {}\n",
    "for i in range(1,16):\n",
    "    a[i]= i**2\n",
    "print(a)"
   ]
  },
  {
   "cell_type": "code",
   "execution_count": 23,
   "metadata": {},
   "outputs": [
    {
     "name": "stdout",
     "output_type": "stream",
     "text": [
      "3\n",
      "120\n"
     ]
    }
   ],
   "source": [
    "#write a program to multiply all the items in a dictionary\n",
    "a = {\"a\":1, \"b\":2, \"c\":3, \"d\":4, \"e\":5}\n",
    "print(a[\"c\"])\n",
    "product = 1\n",
    "for i in a:\n",
    "    product *= a[i] \n",
    "print(product)"
   ]
  },
  {
   "cell_type": "code",
   "execution_count": 24,
   "metadata": {},
   "outputs": [
    {
     "name": "stdout",
     "output_type": "stream",
     "text": [
      "[12, 23, 48, 56, 91]\n"
     ]
    }
   ],
   "source": [
    "#write a python program to sort a dictionary by key\n",
    "a = {12:\"a\",56:\"b\",23:\"c\",48:\"d\",91:\"e\"}\n",
    "a = sorted(a.keys())\n",
    "print(a)"
   ]
  },
  {
   "cell_type": "markdown",
   "metadata": {},
   "source": [
    "Problem Solving :- 2 😍😒😴"
   ]
  },
  {
   "cell_type": "code",
   "execution_count": 11,
   "metadata": {},
   "outputs": [
    {
     "name": "stdout",
     "output_type": "stream",
     "text": [
      "{'Name': 'David', 'Age': 13, 'Marks': 87}\n",
      "<class 'dict'>\n",
      "{\"Name\": \"David\", \"Age\": 13, \"Marks\": 87}\n",
      "<class 'str'>\n"
     ]
    }
   ],
   "source": [
    "# convert the following dictionary into JSON format\n",
    "import json\n",
    "student_data = {\"Name\":\"David\",\"Age\":13,\"Marks\":87 }\n",
    "print(student_data)\n",
    "print(type(student_data))\n",
    "\n",
    "data = json.dumps(student_data)\n",
    "print(data)\n",
    "print(type(\"data\"))"
   ]
  },
  {
   "cell_type": "code",
   "execution_count": 22,
   "metadata": {},
   "outputs": [
    {
     "name": "stdout",
     "output_type": "stream",
     "text": [
      "{\n",
      "    \"name\"=\"David\",\n",
      "    \"age\"=13,\n",
      "    \"marks\"=87\n",
      "}\n"
     ]
    }
   ],
   "source": [
    "#pretty print following JSON data\n",
    "student_data = {\"name\": \"David\", \"age\":13, \"marks\":87}\n",
    "data = json.dumps(student_data,indent=4 , separators=(\",\",\"=\"))\n",
    "print(data)"
   ]
  },
  {
   "cell_type": "code",
   "execution_count": null,
   "metadata": {},
   "outputs": [],
   "source": []
  }
 ],
 "metadata": {
  "kernelspec": {
   "display_name": "base",
   "language": "python",
   "name": "python3"
  },
  "language_info": {
   "codemirror_mode": {
    "name": "ipython",
    "version": 3
   },
   "file_extension": ".py",
   "mimetype": "text/x-python",
   "name": "python",
   "nbconvert_exporter": "python",
   "pygments_lexer": "ipython3",
   "version": "3.12.3"
  }
 },
 "nbformat": 4,
 "nbformat_minor": 2
}
