{
 "cells": [
  {
   "cell_type": "code",
   "execution_count": 10,
   "metadata": {},
   "outputs": [
    {
     "name": "stdout",
     "output_type": "stream",
     "text": [
      "('apple', 'mango', 'banana', '415', '769', '850')\n",
      "<class 'tuple'>\n"
     ]
    }
   ],
   "source": [
    "a = \"apple\",\"mango\",\"banana\",\"415\",\"769\",\"850\"\n",
    "print(a)\n",
    "print(type(a))"
   ]
  },
  {
   "cell_type": "code",
   "execution_count": 15,
   "metadata": {},
   "outputs": [
    {
     "name": "stdout",
     "output_type": "stream",
     "text": [
      "('Kiwi',)\n",
      "<class 'tuple'>\n"
     ]
    }
   ],
   "source": [
    "b = (\"Kiwi\",)\n",
    "print(b)\n",
    "print(type(b))"
   ]
  },
  {
   "cell_type": "markdown",
   "metadata": {},
   "source": [
    "Slicing and Iteration in Tuples😍🥱"
   ]
  },
  {
   "cell_type": "code",
   "execution_count": 27,
   "metadata": {},
   "outputs": [
    {
     "name": "stdout",
     "output_type": "stream",
     "text": [
      "('Vivo', 'Redmi', 'SamSung', 'Nokia')\n",
      "('Vivo', 'Redmi')\n",
      "('OnePlus', 'Vivo', 'Redmi')\n",
      "Nokia\n",
      "('OnePlus', 'Vivo')\n",
      "('Vivo', 'SamSung')\n",
      "('Nokia', 'SamSung', 'Redmi', 'Vivo', 'OnePlus')\n",
      "('Redmi', 'Vivo', 'OnePlus')\n"
     ]
    }
   ],
   "source": [
    "a = (\"OnePlus\",\"Vivo\",\"Redmi\",\"SamSung\",\"Nokia\")\n",
    "print(a[1:])\n",
    "print(a[1:3])\n",
    "print(a[:3])\n",
    "print(a[-1])\n",
    "print(a[:-3])\n",
    "print(a[1::2])\n",
    "print(a[::-1]) #for all value reverse\n",
    "print(a[2::-1])"
   ]
  },
  {
   "cell_type": "code",
   "execution_count": 29,
   "metadata": {},
   "outputs": [
    {
     "name": "stdout",
     "output_type": "stream",
     "text": [
      "OnePlus\n",
      "Vivo\n",
      "Redmi\n",
      "SamSung\n",
      "Nokia\n"
     ]
    }
   ],
   "source": [
    "a = (\"OnePlus\",\"Vivo\",\"Redmi\",\"SamSung\",\"Nokia\")\n",
    "#with for loop\n",
    "\n",
    "for i in a:\n",
    "    print(i)\n",
    "\n"
   ]
  },
  {
   "cell_type": "code",
   "execution_count": 31,
   "metadata": {},
   "outputs": [
    {
     "name": "stdout",
     "output_type": "stream",
     "text": [
      "OnePlus\n",
      "Vivo\n",
      "Redmi\n",
      "SamSung\n",
      "Nokia\n"
     ]
    }
   ],
   "source": [
    "#along with range and length in for loop\n",
    "for i in range (len(a)):\n",
    "    print(a[i])"
   ]
  },
  {
   "cell_type": "code",
   "execution_count": 32,
   "metadata": {},
   "outputs": [
    {
     "name": "stdout",
     "output_type": "stream",
     "text": [
      "OnePlus\n",
      "Vivo\n",
      "Redmi\n",
      "SamSung\n",
      "Nokia\n"
     ]
    }
   ],
   "source": [
    "#along with while loop\n",
    "i = 0\n",
    "while i < len(a):\n",
    "    print(a[i])\n",
    "    i +=1"
   ]
  },
  {
   "cell_type": "markdown",
   "metadata": {},
   "source": [
    "Conversion of Tuples and Tuple Function😴😍🥱"
   ]
  },
  {
   "cell_type": "code",
   "execution_count": null,
   "metadata": {},
   "outputs": [],
   "source": []
  }
 ],
 "metadata": {
  "kernelspec": {
   "display_name": "base",
   "language": "python",
   "name": "python3"
  },
  "language_info": {
   "codemirror_mode": {
    "name": "ipython",
    "version": 3
   },
   "file_extension": ".py",
   "mimetype": "text/x-python",
   "name": "python",
   "nbconvert_exporter": "python",
   "pygments_lexer": "ipython3",
   "version": "3.12.3"
  }
 },
 "nbformat": 4,
 "nbformat_minor": 2
}
