{
 "cells": [
  {
   "cell_type": "code",
   "execution_count": 2,
   "metadata": {},
   "outputs": [
    {
     "name": "stdout",
     "output_type": "stream",
     "text": [
      "('apple', 'mango', 'banana', '415', '769', '850')\n",
      "<class 'tuple'>\n"
     ]
    }
   ],
   "source": [
    "a = \"apple\",\"mango\",\"banana\",\"415\",\"769\",\"850\"\n",
    "print(a)\n",
    "print(type(a))"
   ]
  },
  {
   "cell_type": "code",
   "execution_count": 15,
   "metadata": {},
   "outputs": [
    {
     "name": "stdout",
     "output_type": "stream",
     "text": [
      "('Kiwi',)\n",
      "<class 'tuple'>\n"
     ]
    }
   ],
   "source": [
    "b = (\"Kiwi\",)\n",
    "print(b)\n",
    "print(type(b))"
   ]
  },
  {
   "cell_type": "markdown",
   "metadata": {},
   "source": [
    "Slicing and Iteration in Tuples😍🥱"
   ]
  },
  {
   "cell_type": "code",
   "execution_count": 27,
   "metadata": {},
   "outputs": [
    {
     "name": "stdout",
     "output_type": "stream",
     "text": [
      "('Vivo', 'Redmi', 'SamSung', 'Nokia')\n",
      "('Vivo', 'Redmi')\n",
      "('OnePlus', 'Vivo', 'Redmi')\n",
      "Nokia\n",
      "('OnePlus', 'Vivo')\n",
      "('Vivo', 'SamSung')\n",
      "('Nokia', 'SamSung', 'Redmi', 'Vivo', 'OnePlus')\n",
      "('Redmi', 'Vivo', 'OnePlus')\n"
     ]
    }
   ],
   "source": [
    "a = (\"OnePlus\",\"Vivo\",\"Redmi\",\"SamSung\",\"Nokia\")\n",
    "print(a[1:])\n",
    "print(a[1:3])\n",
    "print(a[:3])\n",
    "print(a[-1])\n",
    "print(a[:-3])\n",
    "print(a[1::2])\n",
    "print(a[::-1]) #for all value reverse\n",
    "print(a[2::-1])"
   ]
  },
  {
   "cell_type": "code",
   "execution_count": 29,
   "metadata": {},
   "outputs": [
    {
     "name": "stdout",
     "output_type": "stream",
     "text": [
      "OnePlus\n",
      "Vivo\n",
      "Redmi\n",
      "SamSung\n",
      "Nokia\n"
     ]
    }
   ],
   "source": [
    "a = (\"OnePlus\",\"Vivo\",\"Redmi\",\"SamSung\",\"Nokia\")\n",
    "#with for loop\n",
    "\n",
    "for i in a:\n",
    "    print(i)\n",
    "\n"
   ]
  },
  {
   "cell_type": "code",
   "execution_count": 31,
   "metadata": {},
   "outputs": [
    {
     "name": "stdout",
     "output_type": "stream",
     "text": [
      "OnePlus\n",
      "Vivo\n",
      "Redmi\n",
      "SamSung\n",
      "Nokia\n"
     ]
    }
   ],
   "source": [
    "#along with range and length in for loop\n",
    "for i in range (len(a)):\n",
    "    print(a[i])"
   ]
  },
  {
   "cell_type": "code",
   "execution_count": 32,
   "metadata": {},
   "outputs": [
    {
     "name": "stdout",
     "output_type": "stream",
     "text": [
      "OnePlus\n",
      "Vivo\n",
      "Redmi\n",
      "SamSung\n",
      "Nokia\n"
     ]
    }
   ],
   "source": [
    "#along with while loop\n",
    "i = 0\n",
    "while i < len(a):\n",
    "    print(a[i])\n",
    "    i +=1"
   ]
  },
  {
   "cell_type": "markdown",
   "metadata": {},
   "source": [
    "Conversion of Tuples and Tuple Function😴😍🥱"
   ]
  },
  {
   "cell_type": "code",
   "execution_count": 11,
   "metadata": {},
   "outputs": [
    {
     "name": "stdout",
     "output_type": "stream",
     "text": [
      "Before Conversion <class 'tuple'>\n",
      "After Conversion <class 'list'>\n",
      "['OnePlus', 'Nokia', 'Redmi', 'Vivo']\n",
      "<class 'list'>\n",
      "<class 'tuple'>\n",
      "('OnePlus', 'Nokia', 'Redmi', 'Vivo')\n"
     ]
    }
   ],
   "source": [
    "a = (\"OnePlus\",\"Nokia\",\"Redmi\")\n",
    "print(\"Before Conversion\",type(a))\n",
    "\n",
    "a = list(a)\n",
    "print(\"After Conversion\",type(a))\n",
    "a.append(\"Vivo\")\n",
    "print(a)\n",
    "print(type(a))\n",
    "a = tuple(a)\n",
    "print(type(a))\n",
    "print(a)"
   ]
  },
  {
   "cell_type": "code",
   "execution_count": 18,
   "metadata": {},
   "outputs": [
    {
     "name": "stdout",
     "output_type": "stream",
     "text": [
      "1\n",
      "The index of is: 2\n",
      "The index of Nokia: 1\n"
     ]
    }
   ],
   "source": [
    "a = (\"OnePlus\",\"Nokia\",\"Redmi\")\n",
    "print(a.count(\"Redmi\"))\n",
    "\n",
    "print(\"The index of is:\",a.index(\"Redmi\"))\n",
    "print(\"The index of Nokia:\",a.index(\"Nokia\"))"
   ]
  },
  {
   "cell_type": "markdown",
   "metadata": {},
   "source": [
    "Problem Solving😴😴😒😍"
   ]
  },
  {
   "cell_type": "code",
   "execution_count": null,
   "metadata": {},
   "outputs": [],
   "source": []
  }
 ],
 "metadata": {
  "kernelspec": {
   "display_name": "base",
   "language": "python",
   "name": "python3"
  },
  "language_info": {
   "codemirror_mode": {
    "name": "ipython",
    "version": 3
   },
   "file_extension": ".py",
   "mimetype": "text/x-python",
   "name": "python",
   "nbconvert_exporter": "python",
   "pygments_lexer": "ipython3",
   "version": "3.12.3"
  }
 },
 "nbformat": 4,
 "nbformat_minor": 2
}
