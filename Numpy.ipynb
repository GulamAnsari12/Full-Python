{
 "cells": [
  {
   "cell_type": "code",
   "execution_count": 12,
   "metadata": {},
   "outputs": [],
   "source": [
    "import numpy as np"
   ]
  },
  {
   "cell_type": "code",
   "execution_count": 16,
   "metadata": {},
   "outputs": [
    {
     "name": "stdout",
     "output_type": "stream",
     "text": [
      "[30, 40, 50]\n",
      "[70, 80, 90]\n",
      "<class 'list'>\n",
      "<class 'list'>\n",
      "[30, 40, 50, 70, 80, 90]\n",
      "[30, 40, 50] [70, 80, 90]\n"
     ]
    }
   ],
   "source": [
    "#List \n",
    "a = [30,40,50]\n",
    "b = [70,80,90]\n",
    "print(a)\n",
    "print(b)\n",
    "print(type(a))\n",
    "print(type(b))\n",
    "print(a+b)\n",
    "print(a,b)\n"
   ]
  },
  {
   "cell_type": "code",
   "execution_count": 27,
   "metadata": {},
   "outputs": [
    {
     "name": "stdout",
     "output_type": "stream",
     "text": [
      "[30 40 50]\n",
      "[70 80 90]\n",
      "<class 'numpy.ndarray'>\n",
      "<class 'numpy.ndarray'>\n",
      "[100 120 140]\n",
      "[-40 -40 -40]\n",
      "[2100 3200 4500]\n"
     ]
    }
   ],
   "source": [
    "#Numpy\n",
    "a = np.array ([30,40,50])\n",
    "b = np.array ([70,80,90])\n",
    "print(a)\n",
    "print(b)\n",
    "print(type(a))\n",
    "print(type(b))\n",
    "print(a+b)\n",
    "print(a-b)\n",
    "print(a*b)"
   ]
  },
  {
   "cell_type": "code",
   "execution_count": 26,
   "metadata": {},
   "outputs": [
    {
     "name": "stdout",
     "output_type": "stream",
     "text": [
      "['10' '20' '30']\n",
      "<class 'numpy.ndarray'>\n"
     ]
    }
   ],
   "source": [
    "s = np.array([10,20,\"30\"])\n",
    "print(s)\n",
    "print(type(s))"
   ]
  },
  {
   "cell_type": "code",
   "execution_count": 29,
   "metadata": {},
   "outputs": [
    {
     "name": "stdout",
     "output_type": "stream",
     "text": [
      "[20.  50.  60.2]\n",
      "<class 'numpy.ndarray'>\n"
     ]
    }
   ],
   "source": [
    "v = np.array([20,50,60.2])\n",
    "print(v)\n",
    "print(type(v))"
   ]
  },
  {
   "cell_type": "code",
   "execution_count": 36,
   "metadata": {},
   "outputs": [
    {
     "name": "stdout",
     "output_type": "stream",
     "text": [
      "[[30 10 30]\n",
      " [20 50 60]\n",
      " [90 50 40]]\n",
      "<class 'numpy.ndarray'>\n"
     ]
    }
   ],
   "source": [
    "arr = np.array([[30,10,30],[20,50,60],[90,50,40]])\n",
    "print(arr)\n",
    "print(type(arr))"
   ]
  },
  {
   "cell_type": "markdown",
   "metadata": {},
   "source": [
    "Slicing😒😴😴"
   ]
  },
  {
   "cell_type": "code",
   "execution_count": 13,
   "metadata": {},
   "outputs": [
    {
     "name": "stdout",
     "output_type": "stream",
     "text": [
      "[10 30 27]\n",
      "[10]\n"
     ]
    }
   ],
   "source": [
    "num = np.array([10,30,27,39])\n",
    "print(num[0:3])\n",
    "print(num[0:1])"
   ]
  },
  {
   "cell_type": "code",
   "execution_count": 16,
   "metadata": {},
   "outputs": [
    {
     "name": "stdout",
     "output_type": "stream",
     "text": [
      "(3, 5)\n",
      "15\n",
      "<class 'numpy.ndarray'>\n"
     ]
    }
   ],
   "source": [
    "a = np.array([[30,29,49,59,55],[43,58,34,71,21],[44,11,22,33,55]])\n",
    "print(np.shape(a))\n",
    "print(np.size(a))\n",
    "print(type(a))"
   ]
  },
  {
   "cell_type": "code",
   "execution_count": 15,
   "metadata": {},
   "outputs": [
    {
     "name": "stdout",
     "output_type": "stream",
     "text": [
      "[[50 39 43 10 99]\n",
      " [20 22 39 34 88]\n",
      " [38 29 33 44 11]]\n",
      "<class 'numpy.ndarray'>\n"
     ]
    }
   ],
   "source": [
    "arr = np.array([[50,39,43,10,99],[20,22,39,34,88],[38,29,33,44,11]])\n",
    "print(arr)\n",
    "print(type(arr))\n"
   ]
  },
  {
   "cell_type": "code",
   "execution_count": 30,
   "metadata": {},
   "outputs": [
    {
     "name": "stdout",
     "output_type": "stream",
     "text": [
      "[38 29 33 44]\n",
      "34\n",
      "15\n",
      "2\n",
      "int64\n"
     ]
    }
   ],
   "source": [
    "arr = np.array([[50,39,43,10,99],[20,22,39,34,88],[38,29,33,44,11]])\n",
    "print(arr[2,0:4])\n",
    "print(arr[1,3])\n",
    "print(np.size(arr))\n",
    "print(np.ndim(arr))\n",
    "print(arr.dtype)"
   ]
  },
  {
   "cell_type": "markdown",
   "metadata": {},
   "source": [
    "Inspecting An Array😍😒😴"
   ]
  },
  {
   "cell_type": "code",
   "execution_count": 31,
   "metadata": {},
   "outputs": [],
   "source": [
    "import numpy as np"
   ]
  },
  {
   "cell_type": "code",
   "execution_count": 53,
   "metadata": {},
   "outputs": [
    {
     "name": "stdout",
     "output_type": "stream",
     "text": [
      "[[39 20 50]\n",
      " [30 59 40]]\n",
      "<class 'numpy.ndarray'>\n",
      "(2, 3)\n",
      "2\n",
      "6\n",
      "int64\n",
      "[[39 20 50]\n",
      " [30 59 40]]\n"
     ]
    }
   ],
   "source": [
    "a = [[39,20,50],[30,59,40]]\n",
    "arr = np.array(a)\n",
    "print(arr)\n",
    "print(type(arr)) #data type of variable\n",
    "print(arr.shape) #rows, column\n",
    "print(len(arr)) #number of nested values\n",
    "print(arr.size) #number of elements\n",
    "print(arr.dtype)  #data type of array\n",
    "print(arr.astype(int)) #conversion of datatype\n"
   ]
  },
  {
   "cell_type": "markdown",
   "metadata": {},
   "source": [
    "Mathmetical Operations😍😍😒"
   ]
  },
  {
   "cell_type": "code",
   "execution_count": 54,
   "metadata": {},
   "outputs": [],
   "source": [
    "import numpy as np"
   ]
  },
  {
   "cell_type": "code",
   "execution_count": 56,
   "metadata": {},
   "outputs": [
    {
     "name": "stdout",
     "output_type": "stream",
     "text": [
      "[[ 60  40  20 100]\n",
      " [130 100 110 120]]\n",
      "[[ 60  40  20 100]\n",
      " [130 100 110 120]]\n"
     ]
    }
   ],
   "source": [
    "arr1 = np.array([[30,20,10,50],[40,20,70,60]])\n",
    "arr2 = np.array([[30,20,10,50],[90,80,40,60]])\n",
    "print(arr1+arr2)\n",
    "print(np.add(arr1,arr2))"
   ]
  },
  {
   "cell_type": "code",
   "execution_count": 62,
   "metadata": {},
   "outputs": [
    {
     "name": "stdout",
     "output_type": "stream",
     "text": [
      "[[  0   0   0   0]\n",
      " [-50 -60  30   0]]\n",
      "[[ 900  400  100 2500]\n",
      " [3600 1600 2800 3600]]\n",
      "[[1.         1.         1.         1.        ]\n",
      " [0.44444444 0.25       1.75       1.        ]]\n",
      "[[1 1 1 1]\n",
      " [0 0 1 1]]\n",
      "[[  0   0   0   0]\n",
      " [-50 -60  30   0]]\n"
     ]
    }
   ],
   "source": [
    "arr1 = np.array([[30,20,10,50],[40,20,70,60]])\n",
    "arr2 = np.array([[30,20,10,50],[90,80,40,60]])\n",
    "print(arr1-arr2)\n",
    "print(arr1*arr2)\n",
    "print(arr1/arr2)\n",
    "print(arr1//arr2)\n",
    "print(np.subtract(arr1,arr2))"
   ]
  },
  {
   "cell_type": "code",
   "execution_count": 65,
   "metadata": {},
   "outputs": [
    {
     "name": "stdout",
     "output_type": "stream",
     "text": [
      "[  9  49  81 169 289 361]\n"
     ]
    }
   ],
   "source": [
    "arr1 = np.array([3,7,9,13,17,19])\n",
    "arr2 = np.array([2])\n",
    "print(np.power(arr1,arr2))"
   ]
  },
  {
   "cell_type": "code",
   "execution_count": 74,
   "metadata": {},
   "outputs": [
    {
     "name": "stdout",
     "output_type": "stream",
     "text": [
      "[[ 3.  7.  9. 13. 17. 19.]]\n"
     ]
    }
   ],
   "source": [
    "arr1 = ([[9,49,81,169,289,361]])\n",
    "print(np.sqrt(arr1))\n"
   ]
  },
  {
   "cell_type": "markdown",
   "metadata": {},
   "source": [
    "Joint and Split Arrays🤗😍😍"
   ]
  },
  {
   "cell_type": "code",
   "execution_count": 75,
   "metadata": {},
   "outputs": [
    {
     "name": "stdout",
     "output_type": "stream",
     "text": [
      "[30, 40, 50, 5, 3, 2, 1]\n"
     ]
    }
   ],
   "source": [
    "a = [30,40,50]\n",
    "b = [5,3,2,1]\n",
    "print(a+b)"
   ]
  },
  {
   "cell_type": "code",
   "execution_count": 79,
   "metadata": {},
   "outputs": [
    {
     "name": "stdout",
     "output_type": "stream",
     "text": [
      "[30 40 50  5  3  2  1]\n"
     ]
    }
   ],
   "source": [
    "#Concatenate\n",
    "import numpy as np\n",
    "\n",
    "a = np.array([30,40,50])\n",
    "b = np.array([5,3,2,1])\n",
    "print(np.concatenate([a,b]))"
   ]
  },
  {
   "cell_type": "code",
   "execution_count": 84,
   "metadata": {},
   "outputs": [
    {
     "name": "stdout",
     "output_type": "stream",
     "text": [
      "[[30 40  5  3]\n",
      " [50 10  2  1]]\n"
     ]
    }
   ],
   "source": [
    "a = np.array([[30,40],[50,10]])\n",
    "b = np.array([[5,3],[2,1]])\n",
    "print(np.concatenate([a,b], axis=1))"
   ]
  },
  {
   "cell_type": "code",
   "execution_count": 88,
   "metadata": {},
   "outputs": [
    {
     "name": "stdout",
     "output_type": "stream",
     "text": [
      "[[30 40  5  3]\n",
      " [50 10  2  1]]\n",
      "[[30 40]\n",
      " [50 10]\n",
      " [ 5  3]\n",
      " [ 2  1]]\n"
     ]
    }
   ],
   "source": [
    "print(np.hstack([a,b]))  # Horizontal Concatination\n",
    "print(np.vstack([a,b]))  # Vertical concatination"
   ]
  },
  {
   "cell_type": "code",
   "execution_count": 94,
   "metadata": {},
   "outputs": [
    {
     "name": "stdout",
     "output_type": "stream",
     "text": [
      "[array([[20, 30, 70, 90]]), array([[40, 50, 10, 80]])]\n"
     ]
    }
   ],
   "source": [
    "a = np.array([[20,30,70,90],[40,50,10,80]])\n",
    "b = np.array_split(a,2)\n",
    "print(b)"
   ]
  },
  {
   "cell_type": "markdown",
   "metadata": {},
   "source": [
    "Adding and Removing Elements in the Arrays😒😍😒"
   ]
  },
  {
   "cell_type": "code",
   "execution_count": 2,
   "metadata": {},
   "outputs": [],
   "source": [
    "import numpy as np"
   ]
  },
  {
   "cell_type": "code",
   "execution_count": 6,
   "metadata": {},
   "outputs": [
    {
     "name": "stdout",
     "output_type": "stream",
     "text": [
      "[20 30 40 50 22]\n"
     ]
    }
   ],
   "source": [
    "a = np.array([20,30,40,50])\n",
    "print(np.append(a,(22)))"
   ]
  },
  {
   "cell_type": "code",
   "execution_count": 7,
   "metadata": {},
   "outputs": [
    {
     "name": "stdout",
     "output_type": "stream",
     "text": [
      "[11 22 33 44 55  1  2]\n"
     ]
    }
   ],
   "source": [
    "a = np.array([11,22,33,44,55])\n",
    "print(np.append(a,([1,2])))"
   ]
  },
  {
   "cell_type": "code",
   "execution_count": 8,
   "metadata": {},
   "outputs": [
    {
     "name": "stdout",
     "output_type": "stream",
     "text": [
      "[11 22 33 44 55]\n"
     ]
    }
   ],
   "source": [
    "print(a)"
   ]
  },
  {
   "cell_type": "code",
   "execution_count": 10,
   "metadata": {},
   "outputs": [
    {
     "name": "stdout",
     "output_type": "stream",
     "text": [
      "[ 11  22 101  33  44  55]\n",
      "[ 11  22  33  44 123  55]\n"
     ]
    }
   ],
   "source": [
    "print(np.insert(a,2,101))   #array, index , value\n",
    "print(np.insert(a,4,123))"
   ]
  },
  {
   "cell_type": "code",
   "execution_count": 21,
   "metadata": {},
   "outputs": [
    {
     "name": "stdout",
     "output_type": "stream",
     "text": [
      "[[ 40 400  20  10]\n",
      " [ 90 500  80  70]]\n"
     ]
    }
   ],
   "source": [
    "s = np.array([[40,20,10],[90,80,70]])\n",
    "print(np.insert(s,1,[400,500], axis = 1))"
   ]
  },
  {
   "cell_type": "code",
   "execution_count": 28,
   "metadata": {},
   "outputs": [
    {
     "name": "stdout",
     "output_type": "stream",
     "text": [
      "[[40 20 10]\n",
      " [90 80 70]]\n",
      "\n",
      "[[40 10]\n",
      " [90 70]]\n"
     ]
    }
   ],
   "source": [
    "print(s)\n",
    "print()\n",
    "print(np.delete(s,1, axis = 1))"
   ]
  },
  {
   "cell_type": "markdown",
   "metadata": {},
   "source": [
    "Numpy - Sort, Filter and Search🤗😍😒"
   ]
  },
  {
   "cell_type": "code",
   "execution_count": 2,
   "metadata": {},
   "outputs": [],
   "source": [
    "import numpy as np"
   ]
  },
  {
   "cell_type": "code",
   "execution_count": 36,
   "metadata": {},
   "outputs": [
    {
     "name": "stdout",
     "output_type": "stream",
     "text": [
      "[[ 1  3  4  5 12 45]\n",
      " [21 22 30 31 44 49]]\n"
     ]
    }
   ],
   "source": [
    "arr = np.array([[3,1,4,12,45,5],[49,30,44,21,22,31]])\n",
    "print(np.sort(arr))"
   ]
  },
  {
   "cell_type": "code",
   "execution_count": 40,
   "metadata": {},
   "outputs": [
    {
     "name": "stdout",
     "output_type": "stream",
     "text": [
      "(array([], dtype=int64),)\n",
      "(array([0, 1, 4]),)\n"
     ]
    }
   ],
   "source": [
    "ar = np.array([30,22,33,45,50])\n",
    "a = np.where(ar == 2)\n",
    "print(a)\n",
    "\n",
    "w = np.where(ar %2 == 0)\n",
    "print(w)"
   ]
  },
  {
   "cell_type": "code",
   "execution_count": 45,
   "metadata": {},
   "outputs": [
    {
     "name": "stdout",
     "output_type": "stream",
     "text": [
      "7\n"
     ]
    }
   ],
   "source": [
    "ab = np.array([5,1,2,3,4,5,6,7])\n",
    "ag = np.searchsorted(ab,7)\n",
    "print(ag)"
   ]
  },
  {
   "cell_type": "code",
   "execution_count": 46,
   "metadata": {},
   "outputs": [
    {
     "name": "stdout",
     "output_type": "stream",
     "text": [
      "[30 22 55]\n"
     ]
    }
   ],
   "source": [
    "ar = np.array([30,44,22,55,66])\n",
    "\n",
    "vg = [True, False,True,True,False]\n",
    "\n",
    "new = ar[vg]\n",
    "print(new)"
   ]
  },
  {
   "cell_type": "code",
   "execution_count": 47,
   "metadata": {},
   "outputs": [
    {
     "name": "stdout",
     "output_type": "stream",
     "text": [
      "[44 55 66]\n"
     ]
    }
   ],
   "source": [
    "ar = np.array([30,44,22,55,66])\n",
    "\n",
    "fa = ar>40 \n",
    "new = ar[fa]\n",
    "print(new)"
   ]
  },
  {
   "cell_type": "markdown",
   "metadata": {},
   "source": [
    "Aggregating Functions in Numpy😒😒😍"
   ]
  },
  {
   "cell_type": "code",
   "execution_count": 54,
   "metadata": {},
   "outputs": [
    {
     "name": "stdout",
     "output_type": "stream",
     "text": [
      "150\n",
      "11\n",
      "63.0\n",
      "378\n",
      "[ 30  50 172 322 367 378]\n",
      "[        30        600      73200   10980000  494100000 5435100000]\n",
      "6\n"
     ]
    }
   ],
   "source": [
    "abc = np.array([30,20,122,150,45,11])\n",
    "\n",
    "print(np.max(abc))\n",
    "print(np.min(abc))\n",
    "print(np.mean(abc))\n",
    "print(np.sum(abc))\n",
    "print(np.cumsum(abc))\n",
    "print(np.cumprod(abc))\n",
    "print(np.size(abc))"
   ]
  },
  {
   "cell_type": "code",
   "execution_count": 4,
   "metadata": {},
   "outputs": [
    {
     "name": "stdout",
     "output_type": "stream",
     "text": [
      "[100 150 199 200 250 130] \n",
      " [10 50 30 40 30 10]\n",
      "31270\n"
     ]
    }
   ],
   "source": [
    "a = [100,150,199,200,250,130]\n",
    "b = [10,50,30,40,30,10]\n",
    "\n",
    "price = np.array(a)\n",
    "quantity = np.array(b)\n",
    "\n",
    "print(price,\"\\n\",quantity)\n",
    "c = (np.cumprod([price,quantity], axis = 0))\n",
    "print(c[1].sum())"
   ]
  },
  {
   "cell_type": "markdown",
   "metadata": {},
   "source": [
    "Statistical Functions in Numpy🤗😒😍"
   ]
  },
  {
   "cell_type": "code",
   "execution_count": 15,
   "metadata": {},
   "outputs": [
    {
     "name": "stdout",
     "output_type": "stream",
     "text": [
      "202.25\n",
      "194.0\n",
      "200\n",
      "55.68157235567257\n",
      "3100.4375\n"
     ]
    }
   ],
   "source": [
    "import numpy as np\n",
    "import statistics as stats\n",
    "\n",
    "baked_food = [200,300,150,130,200,280,170,188]\n",
    "\n",
    "a = np.array(baked_food)\n",
    "print(np.mean(baked_food))  #sum of all the values/number of values\n",
    "print(np.median(baked_food))  #central value after sorting\n",
    "print(stats.mode(baked_food))\n",
    "print(np.std(baked_food))\n",
    "print(np.var(baked_food))"
   ]
  },
  {
   "cell_type": "code",
   "execution_count": null,
   "metadata": {},
   "outputs": [],
   "source": []
  }
 ],
 "metadata": {
  "kernelspec": {
   "display_name": "base",
   "language": "python",
   "name": "python3"
  },
  "language_info": {
   "codemirror_mode": {
    "name": "ipython",
    "version": 3
   },
   "file_extension": ".py",
   "mimetype": "text/x-python",
   "name": "python",
   "nbconvert_exporter": "python",
   "pygments_lexer": "ipython3",
   "version": "3.12.3"
  }
 },
 "nbformat": 4,
 "nbformat_minor": 2
}
